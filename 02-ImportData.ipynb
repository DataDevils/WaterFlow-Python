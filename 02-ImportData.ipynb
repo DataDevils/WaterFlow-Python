{
 "cells": [
  {
   "cell_type": "markdown",
   "metadata": {},
   "source": [
    "# <u>Background</u>: Impacts of Falls Lake on Stream Flow\n",
    "These exercises build off the Excel Water Flow examples covered in the last data analytics session. To remind you, in those exercises we wanted to answer the general question: **How did construction of Falls Lake reservoir affect downstream flow?**. And in particular, we refined our question to address the following: \n",
    "* Do plots of monthly average streamflow look different for the period of data taken before Falls lake (1930-1980) than from the period after (1984-2017)?\n",
    "\n",
    "* What are the streamflows associated with 100, 500, and 1000 year floods? Have they changed since the reservoir was constructed?\n",
    "\n",
    "* Has Falls lake succeeded in minimizing the frequency of low flow events? "
   ]
  },
  {
   "cell_type": "markdown",
   "metadata": {},
   "source": [
    "## The analytical workflow\n",
    "To answer these questions, we walk through a series of steps - *the analytical workflow* - which includes:\n",
    "* locating the data\n",
    "* getting the data into our analytical environment\n",
    "* tidying the data for efficient analysis\n",
    "* executing our analysis\n",
    "* visualizing output\n",
    "* evaluating our results and repeating as necessary\n",
    "\n",
    "Here in this notebook, we begin this process using Python, demonstrating how select Python packages (also called \"modules\" or \"libraries\") help us in downloading and formatting our data. "
   ]
  },
  {
   "cell_type": "markdown",
   "metadata": {},
   "source": [
    "---\n",
    "# Importing data\n",
    "This notebook demonstrates how Python, using the `requests`, `io`, and `pandas` libraries, can generate a working dataset from on-line resources. Specifically, this notebook forms a request to a web service, here the NWIS API, and handles the response in such a way as to form a tidy data frame, which is saved as a comma separated value (CSV) formatted file on the local disk. "
   ]
  },
  {
   "cell_type": "markdown",
   "metadata": {},
   "source": [
    "### Water flow data for the Neuse River near Clayton gage site. \n",
    "The data we want, namely mean daily stream flow for a site downstream of Falls Lake, resides on the National Water Information System's (NWIS) servers. Recall the procedure we used in the Excel exercise to locate and query this server to reveal data for the Neuse River near Clayton gage site. The result was presented as a web page, and the URL of that web page (provided below) actually contained all the instructions necessary to generate the data we wanted. In other words, we can manipulate this address and easly get data for a different site or for a different time range. \n",
    "\n",
    "All this is by design (something called a *REST API* or *web service*- another topic beyond the scope of today), and it allows us to leverage Python tools to programmatically pull data into our analysis environment. Examination of the service documentation reveals we can pull a lot more than daily stream flow, and we'll revisit that idea later...\n",
    "\n",
    "Service Documentation:\n",
    "https://waterservices.usgs.gov/rest/DV-Test-Tool.html\n",
    "\n",
    "Example request in URL format:<br>\n",
    "http://waterservices.usgs.gov/nwis/dv/?format=rdb&sites=02089000&startDT=2010-10-01&endDT=2017-09-30&statCd=00003&parameterCd=00060&siteStatus=all"
   ]
  },
  {
   "cell_type": "markdown",
   "metadata": {},
   "source": [
    "#### Import the Python libraries required to run the script\n",
    "Like *R*, Python has a huge developer environment, and these developers are constantly creating new libraries that run specific tasks. Here we load these into our current scripting environment.<br><br>\n",
    "\n",
    "<font color=#767676 size=\"2\">*Note: While many 3rd party libraries may be included in your default Python installation, some are not an need to be **installed** prior importing them in a script. We examined how the `requests` library was manually installed in the setup for this exercise.*</font>"
   ]
  },
  {
   "cell_type": "code",
   "execution_count": 2,
   "metadata": {},
   "outputs": [],
   "source": [
    "#Import libraries\n",
    "import requests\n",
    "import io\n",
    "import pandas as pd"
   ]
  },
  {
   "cell_type": "markdown",
   "metadata": {},
   "source": [
    "#### Assemble the parameters that will be used in the data request\n",
    "To make our script more dynamic, we store key values such as the site number and the specific parameters we want to fetch. That way we can easily tweak these values and somewhat easily generate results for a different site or parameter. "
   ]
  },
  {
   "cell_type": "code",
   "execution_count": 3,
   "metadata": {},
   "outputs": [],
   "source": [
    "#Set site, parameter, and stat codes\n",
    "siteNo = '02087500' #Neuse R. Near Clayton \n",
    "pcode = '00060'     #Discharge (cfs)\n",
    "scode = '00003'     #Daily mean"
   ]
  },
  {
   "cell_type": "code",
   "execution_count": 4,
   "metadata": {},
   "outputs": [],
   "source": [
    "#Set start and end dates\n",
    "startDate = '1930-10-01'\n",
    "endDate = '2017-09-03'"
   ]
  },
  {
   "cell_type": "markdown",
   "metadata": {},
   "source": [
    "#### Format the request, then send it and store the response as a variable\n",
    "Here we construct the URL used to retrieve the data. We could store it a simple string"
   ]
  },
  {
   "cell_type": "code",
   "execution_count": 5,
   "metadata": {},
   "outputs": [],
   "source": [
    "#Construct the service URL and parameters\n",
    "#https://waterdata.usgs.gov/nwis/dv?\n",
    "url =  'https://waterservices.usgs.gov/nwis/dv'\n",
    "params = {'sites':siteNo,\n",
    "          'parameterCd':pcode,\n",
    "          'statCd':scode,\n",
    "          'startDT':startDate,\n",
    "          'endDT':endDate,\n",
    "          'format':'rdb',\n",
    "          'siteStatus':'all'\n",
    "         }"
   ]
  },
  {
   "cell_type": "code",
   "execution_count": 6,
   "metadata": {},
   "outputs": [],
   "source": [
    "#Send the requests and translate the response\n",
    "response_raw = requests.get(url,params)\n",
    "response_clean = response_raw.content.decode('utf-8')"
   ]
  },
  {
   "cell_type": "code",
   "execution_count": 7,
   "metadata": {},
   "outputs": [
    {
     "data": {
      "text/plain": [
       "'https://waterservices.usgs.gov/nwis/dv/?endDT=2017-09-03&sites=02087500&format=rdb&statCd=00003&parameterCd=00060&startDT=1930-10-01&siteStatus=all'"
      ]
     },
     "execution_count": 7,
     "metadata": {},
     "output_type": "execute_result"
    }
   ],
   "source": [
    "response_raw.url"
   ]
  },
  {
   "cell_type": "markdown",
   "metadata": {},
   "source": [
    "#### Clean up the response and read it into a data frame"
   ]
  },
  {
   "cell_type": "code",
   "execution_count": 6,
   "metadata": {
    "collapsed": true
   },
   "outputs": [],
   "source": [
    "#Create a list of metadata rows to skip; rows 1-29 and 31 \n",
    "rowsToSkip = list(range(28))\n",
    "#Append '30' to the list\n",
    "rowsToSkip.append(29)"
   ]
  },
  {
   "cell_type": "code",
   "execution_count": 7,
   "metadata": {
    "collapsed": true
   },
   "outputs": [],
   "source": [
    "#Convert the data into a data frame\n",
    "df = pd.read_csv(io.StringIO(response_clean),\n",
    "                 skiprows=rowsToSkip,     #Skip metadta and data spec lines\n",
    "                 delimiter='\\t',          #Set to tab delimited\n",
    "                 dtype={'site_no':'str'}) #Set site_no to a string datatype"
   ]
  },
  {
   "cell_type": "markdown",
   "metadata": {},
   "source": [
    "#### Examine the resulting data frame"
   ]
  },
  {
   "cell_type": "code",
   "execution_count": 8,
   "metadata": {},
   "outputs": [
    {
     "data": {
      "text/html": [
       "<div>\n",
       "<style scoped>\n",
       "    .dataframe tbody tr th:only-of-type {\n",
       "        vertical-align: middle;\n",
       "    }\n",
       "\n",
       "    .dataframe tbody tr th {\n",
       "        vertical-align: top;\n",
       "    }\n",
       "\n",
       "    .dataframe thead th {\n",
       "        text-align: right;\n",
       "    }\n",
       "</style>\n",
       "<table border=\"1\" class=\"dataframe\">\n",
       "  <thead>\n",
       "    <tr style=\"text-align: right;\">\n",
       "      <th></th>\n",
       "      <th>agency_cd</th>\n",
       "      <th>site_no</th>\n",
       "      <th>datetime</th>\n",
       "      <th>85235_00060_00003</th>\n",
       "      <th>85235_00060_00003_cd</th>\n",
       "    </tr>\n",
       "  </thead>\n",
       "  <tbody>\n",
       "    <tr>\n",
       "      <th>0</th>\n",
       "      <td>USGS</td>\n",
       "      <td>02087500</td>\n",
       "      <td>1930-10-01</td>\n",
       "      <td>347.0</td>\n",
       "      <td>A</td>\n",
       "    </tr>\n",
       "    <tr>\n",
       "      <th>1</th>\n",
       "      <td>USGS</td>\n",
       "      <td>02087500</td>\n",
       "      <td>1930-10-02</td>\n",
       "      <td>173.0</td>\n",
       "      <td>A</td>\n",
       "    </tr>\n",
       "    <tr>\n",
       "      <th>2</th>\n",
       "      <td>USGS</td>\n",
       "      <td>02087500</td>\n",
       "      <td>1930-10-03</td>\n",
       "      <td>132.0</td>\n",
       "      <td>A</td>\n",
       "    </tr>\n",
       "    <tr>\n",
       "      <th>3</th>\n",
       "      <td>USGS</td>\n",
       "      <td>02087500</td>\n",
       "      <td>1930-10-04</td>\n",
       "      <td>125.0</td>\n",
       "      <td>A</td>\n",
       "    </tr>\n",
       "    <tr>\n",
       "      <th>4</th>\n",
       "      <td>USGS</td>\n",
       "      <td>02087500</td>\n",
       "      <td>1930-10-05</td>\n",
       "      <td>125.0</td>\n",
       "      <td>A</td>\n",
       "    </tr>\n",
       "  </tbody>\n",
       "</table>\n",
       "</div>"
      ],
      "text/plain": [
       "  agency_cd   site_no    datetime  85235_00060_00003 85235_00060_00003_cd\n",
       "0      USGS  02087500  1930-10-01              347.0                    A\n",
       "1      USGS  02087500  1930-10-02              173.0                    A\n",
       "2      USGS  02087500  1930-10-03              132.0                    A\n",
       "3      USGS  02087500  1930-10-04              125.0                    A\n",
       "4      USGS  02087500  1930-10-05              125.0                    A"
      ]
     },
     "execution_count": 8,
     "metadata": {},
     "output_type": "execute_result"
    }
   ],
   "source": [
    "#Display the first 5 rows\n",
    "df.head()"
   ]
  },
  {
   "cell_type": "code",
   "execution_count": 9,
   "metadata": {},
   "outputs": [
    {
     "data": {
      "text/html": [
       "<div>\n",
       "<style scoped>\n",
       "    .dataframe tbody tr th:only-of-type {\n",
       "        vertical-align: middle;\n",
       "    }\n",
       "\n",
       "    .dataframe tbody tr th {\n",
       "        vertical-align: top;\n",
       "    }\n",
       "\n",
       "    .dataframe thead th {\n",
       "        text-align: right;\n",
       "    }\n",
       "</style>\n",
       "<table border=\"1\" class=\"dataframe\">\n",
       "  <thead>\n",
       "    <tr style=\"text-align: right;\">\n",
       "      <th></th>\n",
       "      <th>agency_cd</th>\n",
       "      <th>site_no</th>\n",
       "      <th>datetime</th>\n",
       "      <th>MeanFlow_cfs</th>\n",
       "      <th>Confidence</th>\n",
       "    </tr>\n",
       "  </thead>\n",
       "  <tbody>\n",
       "    <tr>\n",
       "      <th>0</th>\n",
       "      <td>USGS</td>\n",
       "      <td>02087500</td>\n",
       "      <td>1930-10-01</td>\n",
       "      <td>347.0</td>\n",
       "      <td>A</td>\n",
       "    </tr>\n",
       "    <tr>\n",
       "      <th>1</th>\n",
       "      <td>USGS</td>\n",
       "      <td>02087500</td>\n",
       "      <td>1930-10-02</td>\n",
       "      <td>173.0</td>\n",
       "      <td>A</td>\n",
       "    </tr>\n",
       "    <tr>\n",
       "      <th>2</th>\n",
       "      <td>USGS</td>\n",
       "      <td>02087500</td>\n",
       "      <td>1930-10-03</td>\n",
       "      <td>132.0</td>\n",
       "      <td>A</td>\n",
       "    </tr>\n",
       "    <tr>\n",
       "      <th>3</th>\n",
       "      <td>USGS</td>\n",
       "      <td>02087500</td>\n",
       "      <td>1930-10-04</td>\n",
       "      <td>125.0</td>\n",
       "      <td>A</td>\n",
       "    </tr>\n",
       "    <tr>\n",
       "      <th>4</th>\n",
       "      <td>USGS</td>\n",
       "      <td>02087500</td>\n",
       "      <td>1930-10-05</td>\n",
       "      <td>125.0</td>\n",
       "      <td>A</td>\n",
       "    </tr>\n",
       "  </tbody>\n",
       "</table>\n",
       "</div>"
      ],
      "text/plain": [
       "  agency_cd   site_no    datetime  MeanFlow_cfs Confidence\n",
       "0      USGS  02087500  1930-10-01         347.0          A\n",
       "1      USGS  02087500  1930-10-02         173.0          A\n",
       "2      USGS  02087500  1930-10-03         132.0          A\n",
       "3      USGS  02087500  1930-10-04         125.0          A\n",
       "4      USGS  02087500  1930-10-05         125.0          A"
      ]
     },
     "execution_count": 9,
     "metadata": {},
     "output_type": "execute_result"
    }
   ],
   "source": [
    "#Rename the last two fields\n",
    "df.rename(columns={'85235_00060_00003':'MeanFlow_cfs','85235_00060_00003_cd':'Confidence'},inplace=True)\n",
    "df.head()"
   ]
  },
  {
   "cell_type": "code",
   "execution_count": 10,
   "metadata": {},
   "outputs": [
    {
     "data": {
      "text/plain": [
       "agency_cd        object\n",
       "site_no          object\n",
       "datetime         object\n",
       "MeanFlow_cfs    float64\n",
       "Confidence       object\n",
       "dtype: object"
      ]
     },
     "execution_count": 10,
     "metadata": {},
     "output_type": "execute_result"
    }
   ],
   "source": [
    "df.dtypes"
   ]
  },
  {
   "cell_type": "markdown",
   "metadata": {},
   "source": [
    "#### Save the dataframe to a csv file"
   ]
  },
  {
   "cell_type": "code",
   "execution_count": 11,
   "metadata": {
    "collapsed": true
   },
   "outputs": [],
   "source": [
    "#Save to a csv file\n",
    "df.to_csv('GageData.csv',index=False)"
   ]
  }
 ],
 "metadata": {
  "kernelspec": {
   "display_name": "Python 3",
   "language": "python",
   "name": "python3"
  },
  "language_info": {
   "codemirror_mode": {
    "name": "ipython",
    "version": 3
   },
   "file_extension": ".py",
   "mimetype": "text/x-python",
   "name": "python",
   "nbconvert_exporter": "python",
   "pygments_lexer": "ipython3",
   "version": "3.5.4"
  }
 },
 "nbformat": 4,
 "nbformat_minor": 2
}
