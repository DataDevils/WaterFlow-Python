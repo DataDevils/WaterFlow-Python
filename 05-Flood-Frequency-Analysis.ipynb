{
 "cells": [
  {
   "cell_type": "markdown",
   "metadata": {},
   "source": [
    "## Flood frequency analysis\n",
    "Here we apply concepts learned in the previous two notebooks (importing and exploring data) to a specific task, namely computing flood frequency at out gage site. This process involves the following sub-tasks:\n",
    "* Grouping data by water year and computing annual peak flow\n",
    "* Computing return intervals and probability of flood recurrences\n",
    "* Computing a regression between return interval and peak flow\n",
    "* Estimating peak flow from our calculated regression\n",
    "* Plotting our results\n",
    "\n",
    "In doing so, we explore the following Python concepts:\n",
    "* Sorting\n",
    "* Ranking\n",
    "* Grouping/summarizing\n",
    "* Running a regression and projecting results\n",
    "* Plotting"
   ]
  },
  {
   "cell_type": "markdown",
   "metadata": {},
   "source": [
    "### Importing and cleaning data\n",
    "As before, we begin by importing the modules we need, then importing and preparing the data for analysis."
   ]
  },
  {
   "cell_type": "code",
   "execution_count": 1,
   "metadata": {},
   "outputs": [],
   "source": [
    "#Import modules\n",
    "import pandas as pd\n",
    "import numpy as np\n",
    "from scipy.stats import linregress\n",
    "import matplotlib.pyplot as plt\n",
    "import seaborn as sns\n",
    "from scipy import stats"
   ]
  },
  {
   "cell_type": "code",
   "execution_count": 2,
   "metadata": {},
   "outputs": [],
   "source": [
    "#Enable inline plots and set to use seaborn styles\n",
    "%matplotlib inline\n",
    "sns.set_style(\"whitegrid\")\n",
    "sns.set(font_scale=1.5)"
   ]
  },
  {
   "cell_type": "code",
   "execution_count": 3,
   "metadata": {},
   "outputs": [],
   "source": [
    "#Import the streamflow data CSV, setting data types on import\n",
    "df=pd.read_csv('GageData.csv',\n",
    "               dtype={'site_no':'str'}, #Set 'site_no' to string obj\n",
    "               parse_dates=['datetime'])#Set 'datetime' as datetime obj"
   ]
  },
  {
   "cell_type": "code",
   "execution_count": 4,
   "metadata": {},
   "outputs": [],
   "source": [
    "#Add year, month, and water_year columns\n",
    "df['year'] = df['datetime'].map(lambda x: x.year)\n",
    "df['month'] = df['datetime'].map(lambda x: x.month)\n",
    "df['water_year'] = df['datetime'].apply(lambda x: x.year if x.month < 10 else x.year + 1)"
   ]
  },
  {
   "cell_type": "code",
   "execution_count": 5,
   "metadata": {},
   "outputs": [],
   "source": [
    "#Compute flow in cms\n",
    "df['MeanFlow_cms'] = df['MeanFlow_cfs'] * 0.028316847 "
   ]
  },
  {
   "cell_type": "code",
   "execution_count": 6,
   "metadata": {},
   "outputs": [],
   "source": [
    "#Set the index to full date\n",
    "df.index = df.datetime"
   ]
  },
  {
   "cell_type": "code",
   "execution_count": 7,
   "metadata": {},
   "outputs": [],
   "source": [
    "#Create data slices for pre- and post-Falls Lake\n",
    "dfPre = df[:'1980-01-01']\n",
    "dfPost = df['1983-12-31':]"
   ]
  },
  {
   "cell_type": "markdown",
   "metadata": {},
   "source": [
    "### Compute annual peak discharge\n",
    "Compute annual peak flows from our daily flow data. We do this by grouping our data on `water_year` and then computing the max daily discharge for each water year group, the results of which are stored in a new dataframe."
   ]
  },
  {
   "cell_type": "markdown",
   "metadata": {},
   "source": [
    "#### Step 1: Create a dataframe of annual peak flow\n",
    "Annual peak flow is the maximum observed flow in each year, so we need to group values by year and then extract the highest observed flow from each year. The initial result is an array, but we convert it into a dataframe for easier processing afterwards."
   ]
  },
  {
   "cell_type": "code",
   "execution_count": 8,
   "metadata": {},
   "outputs": [
    {
     "data": {
      "text/plain": [
       "water_year\n",
       "1931    300.158578\n",
       "1932    264.762519\n",
       "1933    212.376352\n",
       "1934    237.861515\n",
       "1935    461.564606\n",
       "Name: MeanFlow_cms, dtype: float64"
      ]
     },
     "execution_count": 8,
     "metadata": {},
     "output_type": "execute_result"
    }
   ],
   "source": [
    "#Create a \"GroupBy\" object, using water_year as the grouping variable\n",
    "byYear = df.groupby('water_year')\n",
    "#From the GroupBy object, create an array of max values for each water year\n",
    "arrMaxAnnual = byYear['MeanFlow_cms'].max()\n",
    "#Display the first 5 records in the array\n",
    "arrMaxAnnual[:5]"
   ]
  },
  {
   "cell_type": "code",
   "execution_count": 9,
   "metadata": {},
   "outputs": [
    {
     "data": {
      "text/html": [
       "<div>\n",
       "<style scoped>\n",
       "    .dataframe tbody tr th:only-of-type {\n",
       "        vertical-align: middle;\n",
       "    }\n",
       "\n",
       "    .dataframe tbody tr th {\n",
       "        vertical-align: top;\n",
       "    }\n",
       "\n",
       "    .dataframe thead th {\n",
       "        text-align: right;\n",
       "    }\n",
       "</style>\n",
       "<table border=\"1\" class=\"dataframe\">\n",
       "  <thead>\n",
       "    <tr style=\"text-align: right;\">\n",
       "      <th></th>\n",
       "      <th>PeakFlow_cms</th>\n",
       "    </tr>\n",
       "    <tr>\n",
       "      <th>water_year</th>\n",
       "      <th></th>\n",
       "    </tr>\n",
       "  </thead>\n",
       "  <tbody>\n",
       "    <tr>\n",
       "      <th>1931</th>\n",
       "      <td>300.158578</td>\n",
       "    </tr>\n",
       "    <tr>\n",
       "      <th>1932</th>\n",
       "      <td>264.762519</td>\n",
       "    </tr>\n",
       "    <tr>\n",
       "      <th>1933</th>\n",
       "      <td>212.376352</td>\n",
       "    </tr>\n",
       "    <tr>\n",
       "      <th>1934</th>\n",
       "      <td>237.861515</td>\n",
       "    </tr>\n",
       "    <tr>\n",
       "      <th>1935</th>\n",
       "      <td>461.564606</td>\n",
       "    </tr>\n",
       "  </tbody>\n",
       "</table>\n",
       "</div>"
      ],
      "text/plain": [
       "            PeakFlow_cms\n",
       "water_year              \n",
       "1931          300.158578\n",
       "1932          264.762519\n",
       "1933          212.376352\n",
       "1934          237.861515\n",
       "1935          461.564606"
      ]
     },
     "execution_count": 9,
     "metadata": {},
     "output_type": "execute_result"
    }
   ],
   "source": [
    "#Convert the array to a dataframe, renaming it to PeakFlow_cms\n",
    "dfPF = arrMaxAnnual.to_frame(name=\"PeakFlow_cms\")\n",
    "dfPF.head()"
   ]
  },
  {
   "cell_type": "markdown",
   "metadata": {},
   "source": [
    "#### Step 2. Rank and sort data by max discharge values\n",
    "Compiting return interval (RI) requires our annual data to be ranked on peak discharge. So, before we can compute RI, we need to rank our data. We'll sort them as well, for easier viewing. "
   ]
  },
  {
   "cell_type": "code",
   "execution_count": 10,
   "metadata": {},
   "outputs": [
    {
     "data": {
      "text/html": [
       "<div>\n",
       "<style scoped>\n",
       "    .dataframe tbody tr th:only-of-type {\n",
       "        vertical-align: middle;\n",
       "    }\n",
       "\n",
       "    .dataframe tbody tr th {\n",
       "        vertical-align: top;\n",
       "    }\n",
       "\n",
       "    .dataframe thead th {\n",
       "        text-align: right;\n",
       "    }\n",
       "</style>\n",
       "<table border=\"1\" class=\"dataframe\">\n",
       "  <thead>\n",
       "    <tr style=\"text-align: right;\">\n",
       "      <th></th>\n",
       "      <th>PeakFlow_cms</th>\n",
       "      <th>rank</th>\n",
       "    </tr>\n",
       "    <tr>\n",
       "      <th>water_year</th>\n",
       "      <th></th>\n",
       "      <th></th>\n",
       "    </tr>\n",
       "  </thead>\n",
       "  <tbody>\n",
       "    <tr>\n",
       "      <th>1945</th>\n",
       "      <td>637.129057</td>\n",
       "      <td>1.0</td>\n",
       "    </tr>\n",
       "    <tr>\n",
       "      <th>1999</th>\n",
       "      <td>557.841886</td>\n",
       "      <td>2.0</td>\n",
       "    </tr>\n",
       "    <tr>\n",
       "      <th>1996</th>\n",
       "      <td>535.188408</td>\n",
       "      <td>3.0</td>\n",
       "    </tr>\n",
       "    <tr>\n",
       "      <th>2017</th>\n",
       "      <td>532.356724</td>\n",
       "      <td>4.0</td>\n",
       "    </tr>\n",
       "    <tr>\n",
       "      <th>1935</th>\n",
       "      <td>461.564606</td>\n",
       "      <td>5.0</td>\n",
       "    </tr>\n",
       "  </tbody>\n",
       "</table>\n",
       "</div>"
      ],
      "text/plain": [
       "            PeakFlow_cms  rank\n",
       "water_year                    \n",
       "1945          637.129057   1.0\n",
       "1999          557.841886   2.0\n",
       "1996          535.188408   3.0\n",
       "2017          532.356724   4.0\n",
       "1935          461.564606   5.0"
      ]
     },
     "execution_count": 10,
     "metadata": {},
     "output_type": "execute_result"
    }
   ],
   "source": [
    "# Rank discharge from highest to lowest, storing value in a \"rank\" column\n",
    "dfPF['rank'] = dfPF.rank(ascending=False)\n",
    "dfPF.sort_values(by='PeakFlow_cms',ascending=False,inplace=True)\n",
    "dfPF.head()"
   ]
  },
  {
   "cell_type": "markdown",
   "metadata": {},
   "source": [
    "#### Step 3. Compute Return Interval (RI) and Probability of Recurrence (PoR)\n",
    "Recurrence interval is computed for each year by dividing the number of records (plus 1) by the its rank. Probability of recurrence is the inverse of recurrence interval."
   ]
  },
  {
   "cell_type": "code",
   "execution_count": 11,
   "metadata": {},
   "outputs": [],
   "source": [
    "#Compute the number of records, e.g. the max of all rank values\n",
    "countRecs = dfPF['rank'].max()"
   ]
  },
  {
   "cell_type": "code",
   "execution_count": 12,
   "metadata": {},
   "outputs": [],
   "source": [
    "# Compute Return Interval (RI)\n",
    "dfPF['RI'] = (countRecs + 1) / dfPF['rank']"
   ]
  },
  {
   "cell_type": "code",
   "execution_count": 13,
   "metadata": {},
   "outputs": [],
   "source": [
    "# Compute probability of recurrence (Pe)\n",
    "dfPF['Pe'] = 1 / dfPF['RI']"
   ]
  },
  {
   "cell_type": "code",
   "execution_count": 14,
   "metadata": {},
   "outputs": [
    {
     "data": {
      "text/html": [
       "<div>\n",
       "<style scoped>\n",
       "    .dataframe tbody tr th:only-of-type {\n",
       "        vertical-align: middle;\n",
       "    }\n",
       "\n",
       "    .dataframe tbody tr th {\n",
       "        vertical-align: top;\n",
       "    }\n",
       "\n",
       "    .dataframe thead th {\n",
       "        text-align: right;\n",
       "    }\n",
       "</style>\n",
       "<table border=\"1\" class=\"dataframe\">\n",
       "  <thead>\n",
       "    <tr style=\"text-align: right;\">\n",
       "      <th></th>\n",
       "      <th>PeakFlow_cms</th>\n",
       "      <th>rank</th>\n",
       "      <th>RI</th>\n",
       "      <th>Pe</th>\n",
       "    </tr>\n",
       "    <tr>\n",
       "      <th>water_year</th>\n",
       "      <th></th>\n",
       "      <th></th>\n",
       "      <th></th>\n",
       "      <th></th>\n",
       "    </tr>\n",
       "  </thead>\n",
       "  <tbody>\n",
       "    <tr>\n",
       "      <th>1945</th>\n",
       "      <td>637.129057</td>\n",
       "      <td>1.0</td>\n",
       "      <td>88.000000</td>\n",
       "      <td>0.011364</td>\n",
       "    </tr>\n",
       "    <tr>\n",
       "      <th>1999</th>\n",
       "      <td>557.841886</td>\n",
       "      <td>2.0</td>\n",
       "      <td>44.000000</td>\n",
       "      <td>0.022727</td>\n",
       "    </tr>\n",
       "    <tr>\n",
       "      <th>1996</th>\n",
       "      <td>535.188408</td>\n",
       "      <td>3.0</td>\n",
       "      <td>29.333333</td>\n",
       "      <td>0.034091</td>\n",
       "    </tr>\n",
       "    <tr>\n",
       "      <th>2017</th>\n",
       "      <td>532.356724</td>\n",
       "      <td>4.0</td>\n",
       "      <td>22.000000</td>\n",
       "      <td>0.045455</td>\n",
       "    </tr>\n",
       "    <tr>\n",
       "      <th>1935</th>\n",
       "      <td>461.564606</td>\n",
       "      <td>5.0</td>\n",
       "      <td>17.600000</td>\n",
       "      <td>0.056818</td>\n",
       "    </tr>\n",
       "  </tbody>\n",
       "</table>\n",
       "</div>"
      ],
      "text/plain": [
       "            PeakFlow_cms  rank         RI        Pe\n",
       "water_year                                         \n",
       "1945          637.129057   1.0  88.000000  0.011364\n",
       "1999          557.841886   2.0  44.000000  0.022727\n",
       "1996          535.188408   3.0  29.333333  0.034091\n",
       "2017          532.356724   4.0  22.000000  0.045455\n",
       "1935          461.564606   5.0  17.600000  0.056818"
      ]
     },
     "execution_count": 14,
     "metadata": {},
     "output_type": "execute_result"
    }
   ],
   "source": [
    "# Examine the results\n",
    "dfPF.head()"
   ]
  },
  {
   "cell_type": "markdown",
   "metadata": {},
   "source": [
    "## Visualize the data\n",
    "Have a quick look at the data to examine the likelihood of a relationship. Try a few transformations of the data..."
   ]
  },
  {
   "cell_type": "code",
   "execution_count": 15,
   "metadata": {},
   "outputs": [
    {
     "data": {
      "image/png": "[encoded data removed]",
      "text/plain": [
       "<matplotlib.figure.Figure at 0x269fd5956a0>"
      ]
     },
     "metadata": {},
     "output_type": "display_data"
    }
   ],
   "source": [
    "#Straight up plot of the data\n",
    "plt.plot(dfPF['RI'],dfPF['PeakFlow_cms'],'o');"
   ]
  },
  {
   "cell_type": "code",
   "execution_count": 16,
   "metadata": {},
   "outputs": [
    {
     "data": {
      "image/png": "[encoded data removed]",
      "text/plain": [
       "<matplotlib.figure.Figure at 0x269fd5b0860>"
      ]
     },
     "metadata": {},
     "output_type": "display_data"
    }
   ],
   "source": [
    "#Log transform the x-axis\n",
    "plt.plot(dfPF['RI'],dfPF['PeakFlow_cms'],'o')\n",
    "plt.xscale('log');"
   ]
  },
  {
   "cell_type": "markdown",
   "metadata": {},
   "source": [
    "## Compute a regression using SciPy functions\n",
    "SciPy's [`linregress`](https://docs.scipy.org/doc/scipy/reference/generated/scipy.stats.linregress.html) function allows us to calculate linear regressions for two sets of measurements. It returns an array of 5 objects: the slope, intercept, r-value, p-value, and std. error of the model. We can use this function to quickly evaluate different transformation of our data to get the best fit trend. "
   ]
  },
  {
   "cell_type": "code",
   "execution_count": 17,
   "metadata": {},
   "outputs": [
    {
     "name": "stdout",
     "output_type": "stream",
     "text": [
      "0.76042780209\n"
     ]
    }
   ],
   "source": [
    "#Simple linear regression\n",
    "x = dfPF['RI']\n",
    "y = dfPF['PeakFlow_cms']\n",
    "slope, intercept, r_value, p_value, std_err = stats.linregress(x, y)\n",
    "print (r_value)"
   ]
  },
  {
   "cell_type": "code",
   "execution_count": 18,
   "metadata": {},
   "outputs": [
    {
     "name": "stdout",
     "output_type": "stream",
     "text": [
      "0.989068143448\n"
     ]
    }
   ],
   "source": [
    "#Linear regression, with log-transformed X\n",
    "x = np.log(dfPF['RI'])\n",
    "y = dfPF['PeakFlow_cms']\n",
    "slope, intercept, r_value, p_value, std_err = stats.linregress(x, y)\n",
    "print (r_value)"
   ]
  },
  {
   "cell_type": "markdown",
   "metadata": {},
   "source": [
    "#### Apply the equation to 100, 500, and 1000 year return intervals"
   ]
  },
  {
   "cell_type": "code",
   "execution_count": 19,
   "metadata": {},
   "outputs": [
    {
     "data": {
      "text/plain": [
       "0     100\n",
       "1     500\n",
       "2    1000\n",
       "dtype: int64"
      ]
     },
     "execution_count": 19,
     "metadata": {},
     "output_type": "execute_result"
    }
   ],
   "source": [
    "#Create an array of years\n",
    "arrYears = pd.Series([100,500,1000])\n",
    "arrYears"
   ]
  },
  {
   "cell_type": "code",
   "execution_count": 20,
   "metadata": {},
   "outputs": [
    {
     "data": {
      "text/plain": [
       "0    671.607065\n",
       "1    861.522275\n",
       "2    943.314304\n",
       "dtype: float64"
      ]
     },
     "execution_count": 20,
     "metadata": {},
     "output_type": "execute_result"
    }
   ],
   "source": [
    "#Apply the regression equations to these values\n",
    "arrFlood = slope * np.log(arrYears) + intercept\n",
    "arrFlood"
   ]
  },
  {
   "cell_type": "code",
   "execution_count": 21,
   "metadata": {},
   "outputs": [
    {
     "data": {
      "text/html": [
       "<div>\n",
       "<style scoped>\n",
       "    .dataframe tbody tr th:only-of-type {\n",
       "        vertical-align: middle;\n",
       "    }\n",
       "\n",
       "    .dataframe tbody tr th {\n",
       "        vertical-align: top;\n",
       "    }\n",
       "\n",
       "    .dataframe thead th {\n",
       "        text-align: right;\n",
       "    }\n",
       "</style>\n",
       "<table border=\"1\" class=\"dataframe\">\n",
       "  <thead>\n",
       "    <tr style=\"text-align: right;\">\n",
       "      <th></th>\n",
       "      <th>RI</th>\n",
       "      <th>PeakFlow_cms</th>\n",
       "    </tr>\n",
       "  </thead>\n",
       "  <tbody>\n",
       "    <tr>\n",
       "      <th>0</th>\n",
       "      <td>100</td>\n",
       "      <td>671.607065</td>\n",
       "    </tr>\n",
       "    <tr>\n",
       "      <th>1</th>\n",
       "      <td>500</td>\n",
       "      <td>861.522275</td>\n",
       "    </tr>\n",
       "    <tr>\n",
       "      <th>2</th>\n",
       "      <td>1000</td>\n",
       "      <td>943.314304</td>\n",
       "    </tr>\n",
       "  </tbody>\n",
       "</table>\n",
       "</div>"
      ],
      "text/plain": [
       "     RI  PeakFlow_cms\n",
       "0   100    671.607065\n",
       "1   500    861.522275\n",
       "2  1000    943.314304"
      ]
     },
     "execution_count": 21,
     "metadata": {},
     "output_type": "execute_result"
    }
   ],
   "source": [
    "#Convert to a dataframe\n",
    "dfFlood = pd.concat([arrYears,arrFlood],axis=1)\n",
    "dfFlood.columns = ('RI','PeakFlow_cms')\n",
    "dfFlood"
   ]
  },
  {
   "cell_type": "markdown",
   "metadata": {},
   "source": [
    "We see the R value for the log transformed is much better than the non-transformed model. Let's proceed with that. First we'll plot the data and then we'll add some additional points to our plot. "
   ]
  },
  {
   "cell_type": "markdown",
   "metadata": {},
   "source": [
    "#### Quick plot"
   ]
  },
  {
   "cell_type": "code",
   "execution_count": 22,
   "metadata": {},
   "outputs": [
    {
     "data": {
      "image/png": "[encoded data removed]",
      "text/plain": [
       "<matplotlib.figure.Figure at 0x269fd65f5f8>"
      ]
     },
     "metadata": {},
     "output_type": "display_data"
    }
   ],
   "source": [
    "#A quick plot with a trendline computed from the data\n",
    "plt.plot(x,y,'o',label='original data')\n",
    "plt.plot(x,slope * x + intercept,'r--',label='fitted line')\n",
    "plt.legend()\n",
    "plt.show();"
   ]
  },
  {
   "cell_type": "code",
   "execution_count": 23,
   "metadata": {},
   "outputs": [
    {
     "data": {
      "image/png": "[encoded data removed]",
      "text/plain": [
       "<matplotlib.figure.Figure at 0x269fe9ec390>"
      ]
     },
     "metadata": {},
     "output_type": "display_data"
    }
   ],
   "source": [
    "#Like above, but with an extended trendline and projected data\n",
    "plt.plot(x,y,'o',alpha=0.5,label='original data')\n",
    "plt.plot(np.log(dfFlood['RI']),dfFlood['PeakFlow_cms'],'or',label='projected data')\n",
    "\n",
    "x1 = np.linspace(1,1000,50) #An array of 100 equal spaced values from 0 to 1000\n",
    "lnX1 = np.log(x1)           #Log transform the vaues\n",
    "plt.plot(lnX1,slope * lnX1 + intercept,'g--',label='fitted line')\n",
    "\n",
    "plt.legend()\n",
    "plt.show();"
   ]
  },
  {
   "cell_type": "markdown",
   "metadata": {},
   "source": [
    "##### Fancier plotting\n",
    "https://seaborn.pydata.org/tutorial/regression.html\n",
    "\n",
    "https://seaborn.pydata.org/generated/seaborn.regplot.html#seaborn.regplot"
   ]
  },
  {
   "cell_type": "code",
   "execution_count": 24,
   "metadata": {},
   "outputs": [
    {
     "data": {
      "image/png": "[encoded data removed]",
      "text/plain": [
       "<matplotlib.figure.Figure at 0x269fee7d828>"
      ]
     },
     "metadata": {},
     "output_type": "display_data"
    }
   ],
   "source": [
    "#Create the canvas (fig) and axes (ax) objects, setting the figure size\n",
    "fig, ax = plt.subplots(figsize=(20,6))\n",
    "\n",
    "#Set axis properties\n",
    "ax.set(xlim=(1,1200),\n",
    "       ylim=(0,1200),\n",
    "       xscale =\"log\",\n",
    "       label=\"y = ({0:0.2f}ln(x)+{1:0.2f}\".format(slope,intercept)\n",
    "      )\n",
    "\n",
    "#Add the seaborn regression plot to our figure\n",
    "ax = sns.regplot(x='RI',\n",
    "                 y='PeakFlow_cms',\n",
    "                 data=dfPF,\n",
    "                 logx=True,\n",
    "                 fit_reg=True,\n",
    "                 ci=None,\n",
    "                )\n",
    "\n",
    "#Set the axis labels.\n",
    "ax.set(xlabel='ln(Return Interval (years))', \n",
    "       ylabel='Peak discharge(cms)',\n",
    "       title=\"Flood Frequency: All Years\"\n",
    "      )\n",
    "\n",
    "ax.text(2,500,\"y = {0:.1f}ln(x)+{1:.1f}; r={2:.2f}\".format(slope,intercept,r_value))\n",
    "\n",
    "ax = sns.regplot(x='RI',\n",
    "                 y='PeakFlow_cms',\n",
    "                 data=dfFlood,\n",
    "                 logx=True,\n",
    "                 fit_reg=False,\n",
    "                 ci=None,\n",
    "                 color=\"red\",\n",
    "                 marker='o'\n",
    "                )"
   ]
  },
  {
   "cell_type": "markdown",
   "metadata": {},
   "source": [
    "## ♦ Exercise: Calculate the return interval from the pre-1980 data"
   ]
  },
  {
   "cell_type": "code",
   "execution_count": null,
   "metadata": {},
   "outputs": [],
   "source": [
    "#Copy peak flow data before 1980 to a new dataframe\n",
    "dfPFPre = dfPF.loc[dfPF.index < 1980].copy(deep=True)"
   ]
  },
  {
   "cell_type": "code",
   "execution_count": null,
   "metadata": {},
   "outputs": [],
   "source": [
    "#Re-rank the data\n",
    "dfPFPre['rank'] = dfPFPre.rank(ascending=False)"
   ]
  },
  {
   "cell_type": "code",
   "execution_count": null,
   "metadata": {},
   "outputs": [],
   "source": [
    "#Re-compute RI & Pe\n",
    "countRecs = dfPFPre['rank'].max()\n",
    "dfPFPre['RI'] = (countRecs + 1) / dfPFPre['rank']\n",
    "dfPFPre['Pe'] = 1/dfPFPre['RI']"
   ]
  },
  {
   "cell_type": "code",
   "execution_count": null,
   "metadata": {},
   "outputs": [],
   "source": [
    "#Re-compute the regression\n",
    "x = np.log(dfPFPre['RI'])\n",
    "y = dfPFPre['PeakFlow_cms']\n",
    "slope1, intercept1, r_value1, p_value1, std_err1 = stats.linregress(x, y)\n",
    "print(\"y = {0:0.1f}ln(x) + {1:0.1f}; r2={2:0.2f}\".format(slope1,intercept1,r_value1))"
   ]
  },
  {
   "cell_type": "code",
   "execution_count": null,
   "metadata": {},
   "outputs": [],
   "source": [
    "#Compute 100, 500, and 1000 year floods; adding to previous dfFlood dataframe\n",
    "dfFlood['PreLake_cms'] = slope1 * np.log(dfFlood['RI']) + intercept1\n",
    "dfFlood"
   ]
  },
  {
   "cell_type": "code",
   "execution_count": null,
   "metadata": {},
   "outputs": [],
   "source": [
    "#Plot\n",
    "plt.figure(figsize=(20,10))\n",
    "plt.plot(x,y,'o',alpha=0.5,label='original data')\n",
    "plt.plot(np.log(dfFlood['RI']),dfFlood['PreLake_cms'],'or',label='projected data')\n",
    "\n",
    "x1 = np.linspace(1,1000,50) #An array of 100 equal spaced values from 0 to 1000\n",
    "lnX1 = np.log(x1)           #Log transform the vaues\n",
    "plt.plot(lnX1,slope * lnX1 + intercept,'g--',label='fitted line')\n",
    "plt.plot(lnX1,slope1 * lnX1 + intercept1,'k--',label='Pre1980',linewidth=1,alpha=0.9)\n",
    "\n",
    "plt.legend()\n",
    "plt.show();"
   ]
  }
 ],
 "metadata": {
  "kernelspec": {
   "display_name": "Python 3",
   "language": "python",
   "name": "python3"
  },
  "language_info": {
   "codemirror_mode": {
    "name": "ipython",
    "version": 3
   },
   "file_extension": ".py",
   "mimetype": "text/x-python",
   "name": "python",
   "nbconvert_exporter": "python",
   "pygments_lexer": "ipython3",
   "version": "3.5.4"
  }
 },
 "nbformat": 4,
 "nbformat_minor": 2
}
