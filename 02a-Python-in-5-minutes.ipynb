{
 "cells": [
  {
   "cell_type": "markdown",
   "metadata": {},
   "source": [
    "# Python in 5 minutes...\n",
    "While its absurd to think we can learn Python in 5 minutes, it's useful to at least introduce a few basic concepts of the language before we dive in. After covering these, you'll at least get past that first speed bump and can start interacting on your own."
   ]
  },
  {
   "cell_type": "markdown",
   "metadata": {},
   "source": [
    "## Variable assignment and data types\n",
    "Python assigns values to variables with `=`:"
   ]
  },
  {
   "cell_type": "code",
   "execution_count": null,
   "metadata": {},
   "outputs": [],
   "source": [
    "zip_code = 27705\n",
    "myName = \"John\"\n",
    "voltage = 9.25"
   ]
  },
  {
   "cell_type": "markdown",
   "metadata": {},
   "source": [
    "Really the only rules in assigning variables is that the names can't have spaces or begin with numbers. Oh, and there are a few reserved words you can't use, e.g. `class`..."
   ]
  },
  {
   "cell_type": "markdown",
   "metadata": {},
   "source": [
    "You can check the value of a variable with the `print` command:"
   ]
  },
  {
   "cell_type": "code",
   "execution_count": null,
   "metadata": {},
   "outputs": [],
   "source": [
    "print(myName)"
   ]
  },
  {
   "cell_type": "markdown",
   "metadata": {},
   "source": [
    "When a variable is assigned (or re-assigned) a value, it assumes the **data type** of that value. The most common data types are <u>integers</u>, <u>strings</u>, and <u>float</u>. The data type of a variable can be revealed with the `type` command:"
   ]
  },
  {
   "cell_type": "code",
   "execution_count": null,
   "metadata": {},
   "outputs": [],
   "source": [
    "type(myName)"
   ]
  },
  {
   "cell_type": "code",
   "execution_count": null,
   "metadata": {},
   "outputs": [],
   "source": [
    "type(zip_code)"
   ]
  },
  {
   "cell_type": "markdown",
   "metadata": {},
   "source": [
    "<font color=purple>► What's the type of the `voltage` variable?</font>"
   ]
  },
  {
   "cell_type": "code",
   "execution_count": null,
   "metadata": {},
   "outputs": [],
   "source": [
    "type()"
   ]
  },
  {
   "cell_type": "markdown",
   "metadata": {},
   "source": [
    "Data types are importamt because it defines what you can do with that variable. This is because Python is an **object oriented language** meaning everything in Python is an object, and every object has a set of **properties** and **methods** (or defined actions). "
   ]
  },
  {
   "cell_type": "markdown",
   "metadata": {},
   "source": [
    "---\n",
    "## ♦ Python syntax\n",
    "### Comments\n",
    "One important concept in Python syntax is how to write comments in your code, i.e., code that included in your script, but that is not run. In Python any code written after a `#` is ignored by the kernel. In the example below, the first line is a comment; it is ingored, but is useful to humans reading the script. "
   ]
  },
  {
   "cell_type": "code",
   "execution_count": null,
   "metadata": {},
   "outputs": [],
   "source": [
    "#Assign my name to the variable myName\n",
    "myName = 'John'"
   ]
  },
  {
   "cell_type": "markdown",
   "metadata": {},
   "source": [
    "### Whitespace (indenting) and code blocks\n",
    "As a scripting language, it's useful to string together multiple statements and run them together. A simple script is just a sequence of commands run chronologically, but you'll likely want to compose more complex scripts that include **conditional execution** (e.g. `if`...`then`... statements) or **loops**, and these require the language to be able to define specific **blocks** of code. In Python, code blocks are identified via **whitespace** or indenting lines of code. Additionally, a colon (`:`) is often used in the line preceeding a code block.<br>Here are a few examples:"
   ]
  },
  {
   "cell_type": "code",
   "execution_count": null,
   "metadata": {},
   "outputs": [],
   "source": [
    "for i in range(5):\n",
    "    x = 2 ** i\n",
    "    print(x)\n",
    "print(\"Finished!\")"
   ]
  },
  {
   "cell_type": "code",
   "execution_count": null,
   "metadata": {},
   "outputs": [],
   "source": [
    "x = 100\n",
    "if x < 10:\n",
    "    print(\"It's under 10\")\n",
    "elif x < 100:\n",
    "    print(\"It's under 100\")\n",
    "else:\n",
    "    print(\"It's greater than or equal to 100\")"
   ]
  },
  {
   "cell_type": "markdown",
   "metadata": {},
   "source": [
    "---\n",
    "## ♦ Python collections\n",
    "In analyzing data, we deal with multiple related values. Here are typical Python data types for dealing with collections of values."
   ]
  },
  {
   "cell_type": "markdown",
   "metadata": {},
   "source": [
    "### Lists\n",
    "A Python **list** is a collection of values, and the values can vary in their data type. Lists are termed **vectors** because the order of the items it important: it's the only way we can identify specific elements in a list. Python lists are created using brackets: `[`...`]`."
   ]
  },
  {
   "cell_type": "code",
   "execution_count": null,
   "metadata": {},
   "outputs": [],
   "source": [
    "#Create a list\n",
    "myList = ['Ralph',30,'canoeing',45.3]\n",
    "#Add one more item to our list\n",
    "myList.append('Telephone')"
   ]
  },
  {
   "cell_type": "markdown",
   "metadata": {},
   "source": [
    "To extract elements from a list, use it's **index**. The one catch here is that **Python indices always start at zero, not 1**"
   ]
  },
  {
   "cell_type": "code",
   "execution_count": null,
   "metadata": {},
   "outputs": [],
   "source": [
    "#Print the 3rd item in the list\n",
    "print (myList[2])"
   ]
  },
  {
   "cell_type": "markdown",
   "metadata": {},
   "source": [
    "### Tuples\n",
    "A **tuple** is exactly like a list with the one exception is that, once created, it is **immutable**, meaning we can't add or remove items to the list. Python tuples are created using parentheses: `(`...`)`."
   ]
  },
  {
   "cell_type": "code",
   "execution_count": null,
   "metadata": {},
   "outputs": [],
   "source": [
    "#Create the tuple\n",
    "myTuple = ('Ralph',30,'canoeing',45.3)"
   ]
  },
  {
   "cell_type": "code",
   "execution_count": null,
   "metadata": {},
   "outputs": [],
   "source": [
    "#Extract the 1st item from the tuple\n",
    "myTuple[]"
   ]
  },
  {
   "cell_type": "markdown",
   "metadata": {},
   "source": [
    "### Dictionaries\n",
    "A **dictionary** is a collection of items (of any data type) just like a list or a tuple. However, in a dictionary, values are not referenced by their index, but by a **key** we assign to the value when the dictionary is created or when a value is added to the dictionary. Dictionaries are created using curly braces: `{`<u>key</u>:<u>value</u>`}`."
   ]
  },
  {
   "cell_type": "code",
   "execution_count": null,
   "metadata": {},
   "outputs": [],
   "source": [
    "#Create a dictionary, using names as keys\n",
    "myDict = {'John':21,'Lauren':20,'Martin':30}"
   ]
  },
  {
   "cell_type": "code",
   "execution_count": null,
   "metadata": {},
   "outputs": [],
   "source": [
    "print (myDict['Martin'])"
   ]
  },
  {
   "cell_type": "code",
   "execution_count": null,
   "metadata": {},
   "outputs": [],
   "source": [
    "myDict['Martin'] = 45\n",
    "print (myDict['Martin'])"
   ]
  },
  {
   "cell_type": "markdown",
   "metadata": {},
   "source": [
    "---\n",
    "## ♦ Python Libraries (for data analytics...)\n",
    "Python can be extended by importing **libraries** (aka **packages** or **modules**). You may see various forms of importing a library:\n",
    "* `import numpy`: imports the entire *NumPy* module; NumPy specific statements are preceded with `numpy.`, e.g. `numpy.ndarray(2)`\n",
    "* `import numpy as np`: as above, but references to Numpy functions are made with `np.`, e.g. `np.ndarray(2)`\n",
    "* `from numpy import *`: imports the entire *Numpy* module, but functions don't require a prefix: `ndarray(2)`"
   ]
  },
  {
   "cell_type": "code",
   "execution_count": null,
   "metadata": {},
   "outputs": [],
   "source": [
    "import numpy as np"
   ]
  },
  {
   "cell_type": "code",
   "execution_count": null,
   "metadata": {},
   "outputs": [],
   "source": [
    "np.ndarray(2)"
   ]
  },
  {
   "cell_type": "markdown",
   "metadata": {},
   "source": [
    "Importing libraries add new **data types**, i.e. new object definitions, and thus new **properties** and **methods** (functions) to our script. The two big data analytics libraries in Python are **NumPy** *(**Num**eric **Py**thon)* and **Pandas** *(**Pan**el **da**ta)*. "
   ]
  },
  {
   "cell_type": "markdown",
   "metadata": {},
   "source": [
    "### <u>NumPy</u> and the *n-dimensional array*\n",
    "Briefly, *NumPy* brings multidimensional analysis to Python with it's key data type: the **n-dimensional array**. This is another collection object, **but** all values in the collection must be the same data type (e.g. all integers or all floats), and indices can assume multiple dimensions. These *ndarrays* offer very speedy calculations and manipulations. "
   ]
  },
  {
   "cell_type": "markdown",
   "metadata": {},
   "source": [
    "### <u>Pandas</u> and the *dataframe*\n",
    "The other big libraru in data analytics, Pandas, actually builds off of NumPy's objects, and introduces the **Dataframe**, which is so central to data analysis and this workshop that we'll examine this on its own. "
   ]
  },
  {
   "cell_type": "markdown",
   "metadata": {},
   "source": [
    "## More info\n",
    "A great book on Numpy and Pandas is available online!<b<>\n",
    "https://jakevdp.github.io/PythonDataScienceHandbook/index.html"
   ]
  }
 ],
 "metadata": {
  "kernelspec": {
   "display_name": "Python 3",
   "language": "python",
   "name": "python3"
  },
  "language_info": {
   "codemirror_mode": {
    "name": "ipython",
    "version": 3
   },
   "file_extension": ".py",
   "mimetype": "text/x-python",
   "name": "python",
   "nbconvert_exporter": "python",
   "pygments_lexer": "ipython3",
   "version": "3.5.4"
  }
 },
 "nbformat": 4,
 "nbformat_minor": 2
}
