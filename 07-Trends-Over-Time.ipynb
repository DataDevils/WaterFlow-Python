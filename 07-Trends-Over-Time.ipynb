{
 "cells": [
  {
   "cell_type": "markdown",
   "metadata": {},
   "source": [
    "# Trend analysis\n",
    "How has stream flow changed over time?"
   ]
  },
  {
   "cell_type": "code",
   "execution_count": null,
   "metadata": {},
   "outputs": [],
   "source": [
    "#Import libraries\n",
    "import numpy as np\n",
    "import pandas as pd\n",
    "from pandas import Series, DataFrame\n",
    "import matplotlib.pyplot as plt\n",
    "from pylab import rcParams\n",
    "import seaborn as sb\n",
    "\n",
    "#This is the new player: scikit learn, or 'sklearn'\n",
    "from sklearn import datasets, linear_model"
   ]
  },
  {
   "cell_type": "code",
   "execution_count": null,
   "metadata": {},
   "outputs": [],
   "source": [
    "#Set defaults\n",
    "%matplotlib inline\n",
    "rcParams['figure.figsize'] = 20,10\n",
    "sb.set_style('whitegrid')\n",
    "sb.set(font_scale=2)"
   ]
  },
  {
   "cell_type": "code",
   "execution_count": null,
   "metadata": {},
   "outputs": [],
   "source": [
    "#Load data\n",
    "df=pd.read_csv('GageData.csv',dtype={'site_no':'str'},parse_dates=['datetime'])\n",
    "df['year'] = df['datetime'].map(lambda x: x.year)\n",
    "df['month'] = df['datetime'].map(lambda x: x.month)\n",
    "df['water_year'] = df['datetime'].apply(lambda x: x.year if x.month >= 10 else x.year - 1)\n",
    "df['MeanFlow_cms'] = df['MeanFlow_cfs'] * 0.028316847 \n",
    "df.index = df.datetime"
   ]
  },
  {
   "cell_type": "code",
   "execution_count": null,
   "metadata": {},
   "outputs": [],
   "source": [
    "#Add \"status\" column to hold pre/construction/post Falls Lake status\n",
    "df.loc[df['year'] < 1980, 'status'] = 'PreFallsLake'\n",
    "df.loc[df['year'] >= 1984, 'status'] = 'PostFallsLake'\n",
    "#Drop other records"
   ]
  },
  {
   "cell_type": "markdown",
   "metadata": {},
   "source": [
    "### Is there a statistically significant change in average annual flow over time?\n",
    "Compute average annual stream flow, then run a regression of that against time."
   ]
  },
  {
   "cell_type": "code",
   "execution_count": null,
   "metadata": {},
   "outputs": [],
   "source": [
    "#Compute average annual stream flow, keeping the status column\n",
    "grpYear = df.groupby('water_year')\n",
    "dfYearly = grpYear.agg({'MeanFlow_cms':'sum','status':'first'})\n",
    "dfYearly['year'] = dfYearly.index\n",
    "dfYearly.head()"
   ]
  },
  {
   "cell_type": "code",
   "execution_count": null,
   "metadata": {},
   "outputs": [],
   "source": [
    "#Plot\n",
    "g = sb.lmplot('year','MeanFlow_cms',\n",
    "               data=dfYearly.dropna(axis='rows'),\n",
    "               hue='status',\n",
    "               ci=None\n",
    "              )\n",
    "g.fig.set_size_inches(14,5);"
   ]
  },
  {
   "cell_type": "markdown",
   "metadata": {},
   "source": [
    "http://scikit-learn.org/stable/modules/generated/sklearn.linear_model.LinearRegression.html\n"
   ]
  },
  {
   "cell_type": "code",
   "execution_count": null,
   "metadata": {},
   "outputs": [],
   "source": [
    "#Extract the x and y values we want to model\n",
    "x = dfYearly['year']\n",
    "y = dfYearly['MeanFlow_cms']\n",
    "\n",
    "#Add a new dimension to the x and y arrays (req'd by sklearn)\n",
    "x = x.values.reshape(-1,1)\n",
    "y = y.values.reshape(-1,1)\n",
    "\n",
    "#Create the Linear Regression model object\n",
    "LinReg = linear_model.LinearRegression(normalize=True)\n",
    "\n",
    "#Fit the data to the model\n",
    "LinReg.fit(x,y)\n",
    "\n",
    "#Get the results\n",
    "r2 = LinReg.score(x,y)\n",
    "slope = LinReg.coef_[0][0]\n",
    "intercept = LinReg.intercept_[0]\n",
    "\n",
    "#Construct the formula and show\n",
    "formula = 'y = {0:0.2f}x + {1:0.2f} (R2={2:0.3f})'.format(slope,intercept,r2)\n",
    "print(formula)\n"
   ]
  },
  {
   "cell_type": "code",
   "execution_count": null,
   "metadata": {},
   "outputs": [],
   "source": [
    "#Create the figure and axes objects\n",
    "fig,ax = plt.subplots()\n",
    "\n",
    "#Add a scatter plot of data\n",
    "ax.scatter(x, y,  color='black')\n",
    "\n",
    "#Add the regression line\n",
    "ax.plot(x, LinReg.predict(x), color='blue', linewidth=3)\n",
    "\n",
    "#Add aesthetics\n",
    "ax.set_xlabel(\"Year\")\n",
    "ax.set_ylabel(\"Annual mean discharge (cms)\")\n",
    "ax.set_title(formula)\n",
    "\n",
    "#Show the plot\n",
    "ax;"
   ]
  },
  {
   "cell_type": "code",
   "execution_count": null,
   "metadata": {},
   "outputs": [],
   "source": [
    "#All steps for data < 1980\n",
    "\n",
    "#Create a filter\n",
    "dfFiltered = dfYearly[dfYearly['year'] < 1980]\n",
    "\n",
    "#Extract the x and y values we want to model\n",
    "x = dfFiltered['year']\n",
    "y = dfFiltered['MeanFlow_cms']\n",
    "\n",
    "#Add a new dimension to the x and y arrays (req'd by sklearn)\n",
    "x = x.values.reshape(-1,1)\n",
    "y = y.values.reshape(-1,1)\n",
    "\n",
    "#Create the Linear Regression model object\n",
    "LinReg = linear_model.LinearRegression(normalize=True)\n",
    "\n",
    "#Fit the data to the model\n",
    "LinReg.fit(x,y)\n",
    "\n",
    "#Get the results\n",
    "r2 = LinReg.score(x,y)\n",
    "slope = LinReg.coef_[0][0]\n",
    "intercept = LinReg.intercept_[0]\n",
    "\n",
    "#Construct the formula and show\n",
    "formula = 'y = {0:0.2f}x + {1:0.2f} (R2={2:0.2f})'.format(slope,intercept,r2)\n",
    "\n",
    "\n",
    "fig,ax = plt.subplots()\n",
    "\n",
    "ax.scatter(x, y,  color='black')\n",
    "ax.plot(x, LinReg.predict(x), color='blue', linewidth=3)\n",
    "ax.set_xlabel(\"Year\")\n",
    "ax.set_ylabel(\"Annual mean discharge (cms)\")\n",
    "ax.set_title(formula)\n",
    "\n",
    "ax;"
   ]
  }
 ],
 "metadata": {
  "kernelspec": {
   "display_name": "Python 3",
   "language": "python",
   "name": "python3"
  },
  "language_info": {
   "codemirror_mode": {
    "name": "ipython",
    "version": 3
   },
   "file_extension": ".py",
   "mimetype": "text/x-python",
   "name": "python",
   "nbconvert_exporter": "python",
   "pygments_lexer": "ipython3",
   "version": "3.5.4"
  }
 },
 "nbformat": 4,
 "nbformat_minor": 2
}
