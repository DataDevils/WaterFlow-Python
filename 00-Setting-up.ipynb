{
 "cells": [
  {
   "cell_type": "markdown",
   "metadata": {},
   "source": [
    "# ♦ Step 1: Activate your Jupyter environment\n",
    "* Navigate to https://vm-manage.oit.duke.edu/containers\n",
    "* Find the entry for `ENVIRON859 - Advanced Geospatial Analysis` and create your personal Jupyter environment.\n",
    "\n",
    "This should bring you to your personal **Jupyter environment**, where you can write and execute your own Python code. When you close your browser, this environment stays active and you can return to your work in progress by going back to the [link](https://vm-manage.oit.duke.edu/containers) above. \n",
    "\n",
    "You'll see in your Jupyter environment some menus and a list of `.ipynb` documents. \n",
    "> **Note**: Some Jupyter containers are now defaulting to \"Jupyter Lab\", which is slightly different than \"Jupyter Notebooks\". To make sure you have Jupyter _Notebooks_ running, look at the web address: if it ends in `/lab`, then just delete the `/lab` and the page will reload to Jupyter notebooks, where the web address ends in `/tree`. "
   ]
  },
  {
   "cell_type": "markdown",
   "metadata": {},
   "source": [
    "# ♦ Step 2. Uploading course materials to your environment\n",
    "The Jupyter notebooks we'll use for today's lesson reside on a remote GitHub repository. **GitHub** is another valuable tool in the Data Analytics world that we don't have time to dig into right now. However, we will use it to 'clone' the files we need to our Jupyter machine. \n",
    "\n",
    "To do this we need to run a *shell* command, which is done in new a Jupyter notebook linked not with the Python kernel, but with the \"Bash\" linux kernel. \n",
    "* From the Jupyter environment's home page, select the `New` menu dropdown and choose, `Bash`.  \n",
    "\n",
    "\n",
    "* Type the following command in the first box:<br> `git clone https://github.com/DataDevils/WaterFlow-Python.git` ![Clone image](media/CloneRepo.png)\n",
    "\n",
    "\n",
    "* Execute the command as before by hitting the `►|` button. As this runs you'll see status messages that the 'WaterFlow-Python' is being downloaded. \n",
    "\n",
    "\n",
    "* Close and halt your newly created Bash notebook. It will be called `untitled.ipynb` in your Jupyter environment.\n",
    "\n",
    "\n",
    "* You should also see in your Jupyter environment a new folder named `WaterFlow-Python`. "
   ]
  },
  {
   "cell_type": "markdown",
   "metadata": {},
   "source": [
    "# _What is this *Jupyter environment* thingy?_\n",
    "No time to go into great detail, but your Jupyter environment is a touch like a file system in that it lists the files in your workspace and allows you to open and manage them. What's important to us right now is that this Jupyter environment where you can create **Jupyter Notebooks**. "
   ]
  },
  {
   "cell_type": "markdown",
   "metadata": {},
   "source": [
    "### What is a *Jupyter Notebook*?\n",
    "\n",
    "For us, here, today, a Jupyter notebook is where we'll write and execute our Python code.\n",
    "\n",
    "Jupyter notebooks can do more, a lot more, than just run Python code, but again, that's not our focus here. So we'll distill it down to this: \n",
    "- A Jupyter notebook can contain both rich text (formatted, with figures, formulas, plots, etc.) AND executable code. \n",
    "- Each notebook is associated with a *kernel*, or an engine for executing code. We'll be using the Python 3 kernel, but you can actually write Jupyter notebooks that run R by associating it with an R kernel. \n",
    "\n",
    "The documents you see with the `.ipynb` extension are all Jupyter notebooks. The extension is actually short for *iPython notebook*, as Jupyter evolved from interactive Python, or iPython for short. \n",
    "\n",
    "There's much more to these notebooks, more than we can cover in a day, let alone a few minutes, so we'll learn what we need as we go. Plenty of more comprehensive introduction to the Jupyter environment and Jupyter notebooks are on line. Some examples:  \n",
    "- https://www.datacamp.com/community/tutorials/tutorial-jupyter-notebook\n",
    "- http://nbviewer.jupyter.org/github/jakevdp/PythonDataScienceHandbook/blob/master/notebooks/Index.ipynb - This is an entire book written as a series Jupyter notebooks!  See chapter 1 for material on Jupyter/iPython. "
   ]
  },
  {
   "cell_type": "markdown",
   "metadata": {},
   "source": [
    "---\n",
    "#  *Exercise 0.1: Navigating a Jupyter notebook*\n",
    "- In your Jupyter environment, click on the `01-WaterFlow-Terse.ipynb` document to open it. Note that it opens in a new browser tab and that the page opened has a mix of formatted text, Python code, and the results of the Python code.\n",
    "\n",
    "\n",
    "-  Double click in the first text box, the one with `Quick start: Impacts of Falls Lake on streamflow...` in it. You see that converts to *raw markdown* format, which is how we can add rich text to our notebooks. \n",
    "\n",
    "\n",
    "- With the box still active hit the `►|` button to \"execute\" the contents, which converts the raw markdown back to formatted text. Alternatively, you could click `ctrl`-`enter` to run the code. \n",
    "\n",
    "\n",
    "- The following box should now be active. (If not, just click on it.) Go ahead and run this code the same way as above (with the `►|` button). This runs the code in the box and shows the result just below. \n",
    "\n",
    "\n",
    "- Restart the kernel by selecting `Kernel`>`Restart & Clear Output`. This resets the document, clearing all output, which is fine since we can just re-run our code!\n",
    "\n",
    "\n",
    "- Select `Cells`>`Run All`, which zips through all our code. \n",
    "\n",
    "\n",
    "- Save the document: `File`>`Save and checkpoint` (or click `ctrl`-`s`, or just click the save icon). \n",
    "\n",
    "\n",
    "- Close the document: `File`>`Close and Halt`. Note that if you just close the page displaying the document, it does not halt the kernel. It's best practice to halt the page when you are not editing it for a while. \n",
    "\n",
    "---"
   ]
  },
  {
   "cell_type": "markdown",
   "metadata": {},
   "source": [
    "**Ok! We're ready to get started! If you've opened this document as a Jupyter notebook, you can save it and then \"Close and Halt\" it.**"
   ]
  }
 ],
 "metadata": {
  "kernelspec": {
   "display_name": "Python 3",
   "language": "python",
   "name": "python3"
  },
  "language_info": {
   "codemirror_mode": {
    "name": "ipython",
    "version": 3
   },
   "file_extension": ".py",
   "mimetype": "text/x-python",
   "name": "python",
   "nbconvert_exporter": "python",
   "pygments_lexer": "ipython3",
   "version": "3.6.8"
  }
 },
 "nbformat": 4,
 "nbformat_minor": 2
}
