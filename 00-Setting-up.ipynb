{
 "cells": [
  {
   "cell_type": "markdown",
   "metadata": {},
   "source": [
    "# Step 1: Activate your Jupyter environment\n",
    "* Navigate to https://vm-manage.oit.duke.edu/containers\n",
    "* Find the entry for \"Jupyter - interactive data science and scientific computing notebooks\" and create your personal Jupyter environment.\n",
    "\n",
    "This should bring you to your personal **Jupyter environment**, where you can write and execute your own Python code. When you close your browser, this environment stays active and you can return to your work in progress by going back to the [link](https://vm-manage.oit.duke.edu/containers) above. \n",
    "\n",
    "You'll see in your Jupyter environment some menus and a list of `.ipynb` documents. "
   ]
  },
  {
   "cell_type": "markdown",
   "metadata": {},
   "source": [
    "## What is this *Jupyter environment* thingy?\n",
    "No time to go into great detail, but your Jupyter environment is a touch like a file system in that it lists the files in your workspace and allows you to open and manage them. What's important to us right now is that this Jupyter environment where you can create **Jupyter Notebooks**. "
   ]
  },
  {
   "cell_type": "markdown",
   "metadata": {},
   "source": [
    "## What is a *Jupyter Notebook*?\n",
    "\n",
    "For us, here, today, a Jupyter notebook is where we'll write and execute our Python code.\n",
    "\n",
    "Jupyter notebooks can do more, a lot more, than just run Python code, but again, that's not our focus here. So we'll distill it down to this: \n",
    "- A Jupyter notebook can contain both rich text (formatted, with figures, formulas, plots, etc.) AND executable code. \n",
    "- Each notebook is associated with a *kernel*, or an engine for executing code. We'll be using the Python 3 kernel, but you can actually write Jupyter notebooks that run R by associating it with an R kernel. \n",
    "\n",
    "The documents you see with the `.ipynb` extension are all Jupyter notebooks. The extension is actually short for *iPython notebook*, as Jupyter evolved from interactive Python, or iPython for short. \n",
    "\n",
    "There's much more to these notebooks, more than we can cover in a day, let alone a few minutes, so we'll learn what we need as we go. Plenty of more comprehensive introduction to the Jupyter environment and Jupyter notebooks are on line. Some examples:  \n",
    "- https://www.datacamp.com/community/tutorials/tutorial-jupyter-notebook\n",
    "- http://nbviewer.jupyter.org/github/jakevdp/PythonDataScienceHandbook/blob/master/notebooks/Index.ipynb - This is an entire book written as a series Jupyter notebooks!  See chapter 1 for material on Jupyter/iPython. "
   ]
  },
  {
   "cell_type": "markdown",
   "metadata": {},
   "source": [
    "## ♦ Exercise 0.1: Navigating a Jupyter notebook\n",
    "- In your Jupyter environment, click on the `ggplot-python.ipynb` document to open it. Note that it opens in a new browser tab and that the page opened has a mix of formatted text, Python code, and the results of the Python code.\n",
    "\n",
    "\n",
    "-  Double click in the first text box, the one with `ggplot from ŷhat` in it. You see that converts to *raw markdown* format, which is how we can add rich text to our notebooks. \n",
    "\n",
    "\n",
    "- With the box still active hit the `►|` button to \"execute\" the contents, which converts the raw markdown back to formatted text. Alternatively, you could click `ctrl`-`enter` to run the code. \n",
    "\n",
    "\n",
    "- The following box should now be active. (If not, just click on it.) Go ahead and run this code the same way as above (with the `►|` button). This runs the code in the box and shows the result just below. \n",
    "\n",
    "\n",
    "- Restart the kernel by selecting `Kernel`>`Restart & Clear Output`. This resets the document, clearing all output, which is fine since we can just re-run our code!\n",
    "\n",
    "\n",
    "- Select `Cells`>`Run All`, which zips through all our code. \n",
    "\n",
    "\n",
    "- Save the document: `File`>`Save and checkpoint` (or click `ctrl`-`s`, or just click the save icon). \n",
    "\n",
    "\n",
    "- Close the document: `File`>`Close and Halt`. Note that if you just close the page displaying the document, it does not halt the kernel. It's best practice to halt the page when you are not editing it for a while. "
   ]
  },
  {
   "cell_type": "markdown",
   "metadata": {},
   "source": [
    "# Step 2. Getting the course materials\n",
    "The Jupyter notebooks we'll use for today's lesson reside on a remote GitHub repository. **GitHub** is another valuable tool in the Data Analytics world that we don't have time to dig into right now. However, we will use it to 'clone' the files we need to our Jupyter machine. "
   ]
  }
 ],
 "metadata": {
  "kernelspec": {
   "display_name": "Python 3",
   "language": "python",
   "name": "python3"
  },
  "language_info": {
   "codemirror_mode": {
    "name": "ipython",
    "version": 3
   },
   "file_extension": ".py",
   "mimetype": "text/x-python",
   "name": "python",
   "nbconvert_exporter": "python",
   "pygments_lexer": "ipython3",
   "version": "3.5.4"
  }
 },
 "nbformat": 4,
 "nbformat_minor": 2
}
