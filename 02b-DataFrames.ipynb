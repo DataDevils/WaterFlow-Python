{
 "cells": [
  {
   "cell_type": "markdown",
   "metadata": {},
   "source": [
    "# *Dataframe* operations\n",
    "Before proceeding with the Water Flow exercise, let's first pause and discuss data structures: **vectors**/**series**, **matrices**, **N-dimensional arrays**, and particularly the **dataframe**.\n",
    "\n",
    "## What is a dataframe?\n",
    "The **dataframe** is a key tool in data analysis. Dataframes store data a specific format, one that facilitates many different types of analyses. This format is a table similar to an Excel worksheet, but has more strict conventions:\n",
    "* Each **<u>column</u>** represents a **field**. It has a header or label and the values it holds all have the same **data type**.\n",
    "* Each **<u>row</u>** represents an **observation**. All values in a given row related in that they describe the same entity. \n",
    "* Rows are typically referenced by an **<u>index</u>**. Index values are often, but not always, non-repeating sequential integer values."
   ]
  },
  {
   "cell_type": "markdown",
   "metadata": {},
   "source": [
    "## Typical operations in a dataframe\n",
    "Once data are organized in a dataframe, it's quite straightforward to do the following:\n",
    "* <u>Select</u>/<u>filter</u>/<u>sort</u> data by row, by column, or by both. \n",
    "* <u>Compute</u> new fields from existing ones\n",
    "* <u>Combine</u> tables, either by appending columns or rows \n",
    "* <u>Reshape</u> tables either by melting, pivoting\n",
    "* <u>Summarizing</u>/<u>Grouping</u> data\n",
    "* Handling <u>missing data</u> \n",
    "* <u>Plotting</u>  data\n",
    "\n",
    "We'll introduce how a few of these operations are done using the Python `Pandas` here in this notebook. Specifically, we'll examine how to subset rows and columns can be selected from dataframes as this offers more insight on how dataframes are organized and manipulated in Python. The other tasks will be examined in subsquent notebooks. "
   ]
  },
  {
   "cell_type": "markdown",
   "metadata": {},
   "source": [
    "## Diving in...\n",
    "We'll begin by importing Pandas and then loading the water flow dataset retreived in the previous notebook. "
   ]
  },
  {
   "cell_type": "code",
   "execution_count": null,
   "metadata": {},
   "outputs": [],
   "source": [
    "#import libraries\n",
    "import pandas as pd"
   ]
  },
  {
   "cell_type": "code",
   "execution_count": null,
   "metadata": {},
   "outputs": [],
   "source": [
    "#Load data from the server into a dataframe named 'df'\n",
    "url = 'http://waterservices.usgs.gov/nwis/dv/?format=rdb&sites=02087500&startDT=1930-10-01&endDT=2017-09-30&statCd=00003&parameterCd=00060&siteStatus=all'\n",
    "df = pd.read_csv(url,\n",
    "                 skiprows=31,\n",
    "                 sep='\\t',\n",
    "                 names=['agency_cd','site_no','datetime','MeanFlow_cfs','Confidence'],\n",
    "                 dtype={'site_no':'str'},\n",
    "                 parse_dates=['datetime']\n",
    "                )"
   ]
  },
  {
   "cell_type": "code",
   "execution_count": null,
   "metadata": {},
   "outputs": [],
   "source": [
    "#Display each column's data type\n",
    "df.dtypes"
   ]
  },
  {
   "cell_type": "markdown",
   "metadata": {},
   "source": [
    "## Selecting data\n",
    "Selecting data, aka \"filtering\", \"subsetting\", \"slicing\", etc., can be done by column, by row, or both. Identifying the rows or columns can be done by position, index/label, or by query, as we'll see in the following examples. "
   ]
  },
  {
   "cell_type": "markdown",
   "metadata": {},
   "source": [
    "### Selecting specific *columns* of data\n",
    "Isolating a specific column of data is fairly straightforward; we just enter, in brackets the name of the column."
   ]
  },
  {
   "cell_type": "code",
   "execution_count": null,
   "metadata": {},
   "outputs": [],
   "source": [
    "#Create a new array from just the one column\n",
    "dfMeanFlow = df['MeanFlow_cfs']"
   ]
  },
  {
   "cell_type": "code",
   "execution_count": null,
   "metadata": {},
   "outputs": [],
   "source": [
    "#Show the first 5 rows of that array\n",
    "dfMeanFlow.head()"
   ]
  },
  {
   "cell_type": "markdown",
   "metadata": {},
   "source": [
    "To isolate more than one column, we just pass a *list* of column names between the brackets.<br>*Note that lists in Python are themselves surrounded by brackets `[]`.*"
   ]
  },
  {
   "cell_type": "code",
   "execution_count": null,
   "metadata": {},
   "outputs": [],
   "source": [
    "#Create a new dataframe from the Flow and Confidence columns\n",
    "df2 = df[['MeanFlow_cfs','Confidence']]\n",
    "df2.head()"
   ]
  },
  {
   "cell_type": "markdown",
   "metadata": {},
   "source": [
    "### Selecting rows of data...\n",
    "There are a few means for selecting rows of data: by position, by index, or query, or by mask... Here, we'll touch on each."
   ]
  },
  {
   "cell_type": "markdown",
   "metadata": {},
   "source": [
    "### ♦ Selecting by position with `iloc`\n",
    "First, we can pull one or a **slice** of rows by the row's sequential position in the dataframe using the `iloc` command (short for **i**nteger **loc**ation).<br>*Recall that in Python, lists begin at zero, not one...*"
   ]
  },
  {
   "cell_type": "markdown",
   "metadata": {},
   "source": [
    "* Single values"
   ]
  },
  {
   "cell_type": "code",
   "execution_count": null,
   "metadata": {},
   "outputs": [],
   "source": [
    "#Show first row\n",
    "df.iloc[0]"
   ]
  },
  {
   "cell_type": "code",
   "execution_count": null,
   "metadata": {},
   "outputs": [],
   "source": [
    "#Show second row\n",
    "df.iloc[1]"
   ]
  },
  {
   "cell_type": "code",
   "execution_count": null,
   "metadata": {},
   "outputs": [],
   "source": [
    "#Show last row\n",
    "df.iloc[-1]"
   ]
  },
  {
   "cell_type": "markdown",
   "metadata": {},
   "source": [
    "<font color=red>► What would the command be to show the 100th row of data?</font>"
   ]
  },
  {
   "cell_type": "code",
   "execution_count": null,
   "metadata": {},
   "outputs": [],
   "source": [
    "#Show 100th row\n",
    "df.iloc[]"
   ]
  },
  {
   "cell_type": "markdown",
   "metadata": {},
   "source": [
    "* Data *slices*: A slice of data is a set of contiguous rows (or columns). We can slice our data with `iloc` by providing the bounds of the slice we want.<br>*Note that the upper bound is not included in the slice*. "
   ]
  },
  {
   "cell_type": "code",
   "execution_count": null,
   "metadata": {},
   "outputs": [],
   "source": [
    "#Show the first 4 rows. \n",
    "df.iloc[0:4]"
   ]
  },
  {
   "cell_type": "code",
   "execution_count": null,
   "metadata": {},
   "outputs": [],
   "source": [
    "#Show the first 4 rows (again): Note that if we omit the lower bound, it assumes it's zero\n",
    "df.iloc[:4]"
   ]
  },
  {
   "cell_type": "code",
   "execution_count": null,
   "metadata": {},
   "outputs": [],
   "source": [
    "#Show rows 100 thru 105\n",
    "df.iloc[99:104]"
   ]
  },
  {
   "cell_type": "markdown",
   "metadata": {},
   "source": [
    "<font color=red>► What would the command be to show the last 5 records?</font>"
   ]
  },
  {
   "cell_type": "code",
   "execution_count": null,
   "metadata": {},
   "outputs": [],
   "source": [
    "#Show the last 5 rows \n",
    "df.iloc[]"
   ]
  },
  {
   "cell_type": "markdown",
   "metadata": {},
   "source": [
    "* Selecting rows *and columns* using `iloc`. \n",
    "Since tables are 2 dimensional, we can easily select/slice data by column or row AND column with `iloc."
   ]
  },
  {
   "cell_type": "code",
   "execution_count": null,
   "metadata": {},
   "outputs": [],
   "source": [
    "#First, remind us what our columns are\n",
    "df.columns"
   ]
  },
  {
   "cell_type": "code",
   "execution_count": null,
   "metadata": {},
   "outputs": [],
   "source": [
    "#Select the flow data (4th column) for the 100th record\n",
    "df.iloc[99,3]"
   ]
  },
  {
   "cell_type": "code",
   "execution_count": null,
   "metadata": {},
   "outputs": [],
   "source": [
    "#Select the flow data and confidence values for the 100th to 110th records\n",
    "df.iloc[99:110,3:]"
   ]
  },
  {
   "cell_type": "markdown",
   "metadata": {},
   "source": [
    "---\n",
    "### ♦ Selecting by index with `loc`\n",
    "While `iloc` references rows by their actual position in the data frame, `loc` references them by their **index**. Let's first examine this using the auto-generated indices created when we imported the CSV into a dataframe. Running the `index` function reveals that our initial index was assigned a sequential range of integers. "
   ]
  },
  {
   "cell_type": "code",
   "execution_count": null,
   "metadata": {},
   "outputs": [],
   "source": [
    "#What does our index look like? \n",
    "df.index"
   ]
  },
  {
   "cell_type": "code",
   "execution_count": null,
   "metadata": {},
   "outputs": [],
   "source": [
    "#Show the rows corresponding to index values 6 thru 10\n",
    "df.loc[6:10]"
   ]
  },
  {
   "cell_type": "markdown",
   "metadata": {},
   "source": [
    "Now, let's change our index from the autogenerated sequential values to the values in stored in the `datetime` column."
   ]
  },
  {
   "cell_type": "code",
   "execution_count": null,
   "metadata": {},
   "outputs": [],
   "source": [
    "#Change the index to be values in the datetime column and display them\n",
    "df.set_index('datetime',inplace=True)\n",
    "df.index"
   ]
  },
  {
   "cell_type": "code",
   "execution_count": null,
   "metadata": {},
   "outputs": [],
   "source": [
    "#Show the row with the index matching Jan 1st, 1975\n",
    "df.loc['1975-01-01']"
   ]
  },
  {
   "cell_type": "code",
   "execution_count": null,
   "metadata": {},
   "outputs": [],
   "source": [
    "#Show the slice of rows spanning september 10th thru 15th, 1998\n",
    "df.loc['1998-09-10':'1998-09-15']"
   ]
  },
  {
   "cell_type": "code",
   "execution_count": null,
   "metadata": {},
   "outputs": [],
   "source": [
    "#Return select rows AND columns using loc\n",
    "df.loc['1998-09-10':'1998-09-15','MeanFlow_cfs':'Confidence']"
   ]
  },
  {
   "cell_type": "markdown",
   "metadata": {},
   "source": [
    "<font color=red>► Use `loc` to return `MeanFlow_cfs` data for Sept 1, 2017</font>"
   ]
  },
  {
   "cell_type": "code",
   "execution_count": null,
   "metadata": {},
   "outputs": [],
   "source": [
    "df.loc[]"
   ]
  },
  {
   "cell_type": "markdown",
   "metadata": {},
   "source": [
    "<font color=red>► Use `loc` to return `MeanFlow_cfs` data Sept, 2017 onward to the end of the dataset</font>"
   ]
  },
  {
   "cell_type": "code",
   "execution_count": null,
   "metadata": {},
   "outputs": [],
   "source": [
    "df.loc[]"
   ]
  },
  {
   "cell_type": "markdown",
   "metadata": {},
   "source": [
    "### ♦ Selecting by querying data\n",
    "Moving away from indices, we can query records matching criteria that we specify.  "
   ]
  },
  {
   "cell_type": "code",
   "execution_count": null,
   "metadata": {},
   "outputs": [],
   "source": [
    "#Select rows where the Mean flow was less than 50 cfs\n",
    "df.query('MeanFlow_cfs < 50')"
   ]
  },
  {
   "cell_type": "code",
   "execution_count": null,
   "metadata": {},
   "outputs": [],
   "source": [
    "#Select rows where the Confidence indicates estimated:\n",
    "df.query('Confidence == \"A:e\"')"
   ]
  },
  {
   "cell_type": "markdown",
   "metadata": {},
   "source": [
    "<font color=red>► Query the data for mean flow values equal to 55</font>"
   ]
  },
  {
   "cell_type": "code",
   "execution_count": null,
   "metadata": {},
   "outputs": [],
   "source": [
    "df.query()"
   ]
  },
  {
   "cell_type": "markdown",
   "metadata": {},
   "source": [
    "## ♦ Using *masks* to query data\n",
    "This method is a bit more convoluted. First we create a **mask** which is a binary column of data, meaning values are either true or false, by supplying a criteria. And then we **apply the mask**, which returns only those records that are true. "
   ]
  },
  {
   "cell_type": "code",
   "execution_count": null,
   "metadata": {},
   "outputs": [],
   "source": [
    "#Create a mask of flows below 53 cfs\n",
    "maskTinyFlow = df['MeanFlow_cfs'] < 53"
   ]
  },
  {
   "cell_type": "code",
   "execution_count": null,
   "metadata": {},
   "outputs": [],
   "source": [
    "#Apply the mask; this will only return rows where the mask was true\n",
    "df[maskTinyFlow]"
   ]
  },
  {
   "cell_type": "markdown",
   "metadata": {},
   "source": [
    "## Recap\n",
    "Clearly, we are just scratching the surface of what we can do when our data is in a dataframe. However, in the next few notebooks, we'll dig a bit deeper by re-examining our water flow exercise. "
   ]
  }
 ],
 "metadata": {
  "kernelspec": {
   "display_name": "Python 3",
   "language": "python",
   "name": "python3"
  },
  "language_info": {
   "codemirror_mode": {
    "name": "ipython",
    "version": 3
   },
   "file_extension": ".py",
   "mimetype": "text/x-python",
   "name": "python",
   "nbconvert_exporter": "python",
   "pygments_lexer": "ipython3",
   "version": "3.5.4"
  }
 },
 "nbformat": 4,
 "nbformat_minor": 2
}
