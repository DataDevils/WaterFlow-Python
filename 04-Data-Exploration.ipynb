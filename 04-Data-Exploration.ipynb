{
 "cells": [
  {
   "cell_type": "markdown",
   "metadata": {},
   "source": [
    "# Data Exploration \n",
    "Now that we have the streamflow data imported as a CSV file, we move on to the next step in the analytical workflow, namely exploring the data. After we read the data in CSV file back into our session, we will repeat the exploratory analyses we did in Excel:\n",
    "\n",
    "* Create some scatter plots of the entire dataset as well as for the pre- and post-Falls lake years.\n",
    "\n",
    "\n",
    "* Deriving some new column in our data frame from existing columns:\n",
    " * Create `year` and `month` columns from our `datetime` data\n",
    " * Create a `water_year` column based on year and month values\n",
    " * Convert our *cfs* data into *cms* and *mgd* units and re-plot\n",
    "\n",
    "\n",
    "* Summarize the data by *confidence codes*:\n",
    " * Group the data by data-value qualification (i.e., \"confidence\") codes\n",
    " * Determine how many different codes exist in our data and what those codes are\n",
    " * Compute the number of records in each code\n",
    " * Create a quick bar pot showing the record count in each category\n",
    "\n",
    "\n",
    "* Compute summary statistics of the entire set of discharge data.\n",
    " * Compute min, max, mean, median, as well as specific quantiles.\n",
    " * Plot these values\n",
    " * Repeat for select years of data (pre- and post- Falls Lake construction)"
   ]
  },
  {
   "cell_type": "markdown",
   "metadata": {},
   "source": [
    "## Import libraries\n",
    "First, we need to load a few Python packages build for data analyisis projects."
   ]
  },
  {
   "cell_type": "code",
   "execution_count": 3,
   "metadata": {},
   "outputs": [],
   "source": [
    "#Import modules\n",
    "import pandas as pd\n",
    "import matplotlib.pyplot as plt\n",
    "import seaborn as sns"
   ]
  },
  {
   "cell_type": "code",
   "execution_count": 4,
   "metadata": {},
   "outputs": [],
   "source": [
    "#Instruct Jupyter to allow plots in the document itself\n",
    "%matplotlib inline"
   ]
  },
  {
   "cell_type": "markdown",
   "metadata": {},
   "source": [
    "## Read the data into a *Pandas* dataframe.\n",
    "Read in the CSV created in the previous notebook into a new Pandas dataframe named `df`. We'll also force the data type of the `site_no` field to be a *string*, not a *number*, which Pandas would infer by default..."
   ]
  },
  {
   "cell_type": "code",
   "execution_count": 5,
   "metadata": {},
   "outputs": [],
   "source": [
    "#Load the saved csv file, reading the site_no column as a string, not a number.\n",
    "df = pd.read_csv('GageData.csv', dtype={'site_no':'str'}) "
   ]
  },
  {
   "cell_type": "code",
   "execution_count": 6,
   "metadata": {},
   "outputs": [
    {
     "data": {
      "text/html": [
       "<div>\n",
       "<style scoped>\n",
       "    .dataframe tbody tr th:only-of-type {\n",
       "        vertical-align: middle;\n",
       "    }\n",
       "\n",
       "    .dataframe tbody tr th {\n",
       "        vertical-align: top;\n",
       "    }\n",
       "\n",
       "    .dataframe thead th {\n",
       "        text-align: right;\n",
       "    }\n",
       "</style>\n",
       "<table border=\"1\" class=\"dataframe\">\n",
       "  <thead>\n",
       "    <tr style=\"text-align: right;\">\n",
       "      <th></th>\n",
       "      <th>agency_cd</th>\n",
       "      <th>site_no</th>\n",
       "      <th>datetime</th>\n",
       "      <th>MeanFlow_cfs</th>\n",
       "      <th>Confidence</th>\n",
       "    </tr>\n",
       "  </thead>\n",
       "  <tbody>\n",
       "    <tr>\n",
       "      <th>0</th>\n",
       "      <td>USGS</td>\n",
       "      <td>02087500</td>\n",
       "      <td>1930-10-01</td>\n",
       "      <td>347.0</td>\n",
       "      <td>A</td>\n",
       "    </tr>\n",
       "    <tr>\n",
       "      <th>1</th>\n",
       "      <td>USGS</td>\n",
       "      <td>02087500</td>\n",
       "      <td>1930-10-02</td>\n",
       "      <td>173.0</td>\n",
       "      <td>A</td>\n",
       "    </tr>\n",
       "    <tr>\n",
       "      <th>2</th>\n",
       "      <td>USGS</td>\n",
       "      <td>02087500</td>\n",
       "      <td>1930-10-03</td>\n",
       "      <td>132.0</td>\n",
       "      <td>A</td>\n",
       "    </tr>\n",
       "    <tr>\n",
       "      <th>3</th>\n",
       "      <td>USGS</td>\n",
       "      <td>02087500</td>\n",
       "      <td>1930-10-04</td>\n",
       "      <td>125.0</td>\n",
       "      <td>A</td>\n",
       "    </tr>\n",
       "    <tr>\n",
       "      <th>4</th>\n",
       "      <td>USGS</td>\n",
       "      <td>02087500</td>\n",
       "      <td>1930-10-05</td>\n",
       "      <td>125.0</td>\n",
       "      <td>A</td>\n",
       "    </tr>\n",
       "  </tbody>\n",
       "</table>\n",
       "</div>"
      ],
      "text/plain": [
       "  agency_cd   site_no    datetime  MeanFlow_cfs Confidence\n",
       "0      USGS  02087500  1930-10-01         347.0          A\n",
       "1      USGS  02087500  1930-10-02         173.0          A\n",
       "2      USGS  02087500  1930-10-03         132.0          A\n",
       "3      USGS  02087500  1930-10-04         125.0          A\n",
       "4      USGS  02087500  1930-10-05         125.0          A"
      ]
     },
     "execution_count": 6,
     "metadata": {},
     "output_type": "execute_result"
    }
   ],
   "source": [
    "#Confirm it looks good by viewing the first 5 records using the \"head()\" function\n",
    "df.head()"
   ]
  },
  {
   "cell_type": "markdown",
   "metadata": {},
   "source": [
    "### Data types\n",
    "Dataframes are structured so that each column contains values of a constant and defined **data type**. Typical data types in a Pandas dataframe include integers (`int64`), floating point numbers (`float64`), strings (`object`), and date/time objects (`datetime64`).\n",
    "\n",
    "If we import data into a dataframe, it infers data types from the the values in the input file unless we override the defaults, as we did above with the `site_no` varible. We can view the datatypes in a dataframe via the dataframe's `dtypes` property:"
   ]
  },
  {
   "cell_type": "code",
   "execution_count": 7,
   "metadata": {},
   "outputs": [
    {
     "data": {
      "text/plain": [
       "agency_cd        object\n",
       "site_no          object\n",
       "datetime         object\n",
       "MeanFlow_cfs    float64\n",
       "Confidence       object\n",
       "dtype: object"
      ]
     },
     "execution_count": 7,
     "metadata": {},
     "output_type": "execute_result"
    }
   ],
   "source": [
    "#Show the data types of each column\n",
    "df.dtypes"
   ]
  },
  {
   "cell_type": "markdown",
   "metadata": {},
   "source": [
    "Note that the `datetime` variable has an incorrectly assigned data type. It is listed as a string (`object`), so we need to re-define it to be a `datetime64` object, specifying the date format our data use."
   ]
  },
  {
   "cell_type": "code",
   "execution_count": 8,
   "metadata": {},
   "outputs": [
    {
     "data": {
      "text/plain": [
       "agency_cd               object\n",
       "site_no                 object\n",
       "datetime        datetime64[ns]\n",
       "MeanFlow_cfs           float64\n",
       "Confidence              object\n",
       "dtype: object"
      ]
     },
     "execution_count": 8,
     "metadata": {},
     "output_type": "execute_result"
    }
   ],
   "source": [
    "#Convert datetime to an actual datetime object\n",
    "df['datetime'] = pd.to_datetime(df['datetime'],format=('%Y-%m-%d'))\n",
    "df.dtypes"
   ]
  },
  {
   "cell_type": "markdown",
   "metadata": {},
   "source": [
    "### Indexes and data slices\n",
    "Dataframe *indexes* provide different ways to select, sort, and organize data **rows**. By setting our `datetime` field as an index, we can then select rows by date ranges or \"slices\". "
   ]
  },
  {
   "cell_type": "code",
   "execution_count": 33,
   "metadata": {},
   "outputs": [],
   "source": [
    "#Setting the date time as the index allows time slicing\n",
    "df.set_index('datetime',inplace=True)"
   ]
  },
  {
   "cell_type": "code",
   "execution_count": 32,
   "metadata": {},
   "outputs": [],
   "source": [
    "#Create two new dataframe views: One with records before Falls Lake an one after\n",
    "dfPre = df.loc['1930-01-01':'1979-12-31']\n",
    "dfPost = df.loc['1984-01-01':'2017-12-31']"
   ]
  },
  {
   "cell_type": "code",
   "execution_count": 11,
   "metadata": {},
   "outputs": [],
   "source": [
    "#dfPost.head()\n",
    "#dfPost.shape\n",
    "#dfPost.columns\n",
    "#dfPost['MeanFlow_cfs'].max()\n",
    "#"
   ]
  },
  {
   "cell_type": "markdown",
   "metadata": {},
   "source": [
    "### Create a new column indicating whether the data is before/after Falls Lake\n",
    "We can add a new column to our data listing whether the data row exists before or after the construction of Falls Lake. We'll call this column `Status`. "
   ]
  },
  {
   "cell_type": "markdown",
   "metadata": {},
   "source": [
    "df["
   ]
  },
  {
   "cell_type": "markdown",
   "metadata": {},
   "source": [
    "## Create time series plots of daily discharge data\n",
    "With our data properly imported and formatted, we can now create some exploratory plots of our data, which may reveal any gaps or outliers of concern. \n",
    "\n",
    "Pandas has some plotting capability that will examine. However, we'll also explore the *matplotlib* package, a powerful plotting package that has both Python and R versions, as well as *seaborn* which adds nice aesthetics to our plots. "
   ]
  },
  {
   "cell_type": "markdown",
   "metadata": {},
   "source": [
    "#### Create a simple plot using `Pandas` functionality. \n",
    "The Pandas library includes some plotting functionality, making it quite easy to generate a limited number of figures from our data. For more information see <br>https://pandas.pydata.org/pandas-docs/stable/visualization.html"
   ]
  },
  {
   "cell_type": "code",
   "execution_count": 12,
   "metadata": {},
   "outputs": [
    {
     "data": {
      "image/png": "[encoded data removed]",
      "text/plain": [
       "<matplotlib.figure.Figure at 0x1c40012c6d8>"
      ]
     },
     "metadata": {},
     "output_type": "display_data"
    }
   ],
   "source": [
    "#Plot using Pandas\n",
    "df['MeanFlow_cfs'].plot();"
   ]
  },
  {
   "cell_type": "markdown",
   "metadata": {},
   "source": [
    "#### Use *ggplot* to plot\n",
    "An alternative to Pandas built-in plotting capability is [`ggplot`](http://ggplot.yhathq.com/) which is similar, but not idential to R's ggplot. "
   ]
  },
  {
   "cell_type": "code",
   "execution_count": 18,
   "metadata": {},
   "outputs": [],
   "source": [
    "#Import everything from ggplot\n",
    "from ggplot import *"
   ]
  },
  {
   "cell_type": "code",
   "execution_count": 31,
   "metadata": {},
   "outputs": [
    {
     "data": {
      "image/png": "[encoded data removed]",
      "text/plain": [
       "<matplotlib.figure.Figure at 0x1c400a5cd68>"
      ]
     },
     "metadata": {},
     "output_type": "display_data"
    },
    {
     "data": {
      "text/plain": [
       "<ggplot: (121352873238)>"
      ]
     },
     "execution_count": 31,
     "metadata": {},
     "output_type": "execute_result"
    }
   ],
   "source": [
    "#Plot using aesthetics\n",
    "ggplot(aes(x='datetime',y='MeanFlow_cfs'), data = df) +\\\n",
    "    geom_line() +\\\n",
    "    xlab(\"Year\")  +\\\n",
    "    ylab(\"Mean Flow (cfs)\") +\\\n",
    "    ggtitle(\"Neuse River near Clayton, NC\")"
   ]
  },
  {
   "cell_type": "markdown",
   "metadata": {},
   "source": [
    "#### Create a time series plot of mean discharge using `matplotlib`\n",
    "\n",
    "https://matplotlib.org/devdocs/api/pyplot_summary.html"
   ]
  },
  {
   "cell_type": "code",
   "execution_count": null,
   "metadata": {},
   "outputs": [],
   "source": [
    "#Create a plot canvas of a specified size\n",
    "plt.figure(figsize=(20,6));\n",
    "\n",
    "#Plot the mean flow (against time)\n",
    "plt.plot(df['MeanFlow_cfs']);\n",
    "\n",
    "#Add a vertical line indicating when Falls Lake construction began\n",
    "plt.axvline(x='1980-01-01',color='red',ls='--');\n",
    "\n",
    "#Add some aesthetics\n",
    "plt.title(\"Neuse River Near Goldsboro, NC\");\n",
    "plt.ylabel(\"Discharge (cfs)\");"
   ]
  },
  {
   "cell_type": "markdown",
   "metadata": {},
   "source": [
    "#### Invoke `Seaborn` to make prettier plots \n",
    "https://seaborn.pydata.org/tutorial/aesthetics.html\n"
   ]
  },
  {
   "cell_type": "code",
   "execution_count": null,
   "metadata": {},
   "outputs": [],
   "source": [
    "#Activate seaborn default aesthetics\n",
    "sns.set(font_scale=2)\n",
    "#Repeat above\n",
    "plt.figure(figsize=(20,6));\n",
    "plt.plot(df['MeanFlow_cfs']);\n",
    "plt.axvline(x='1980-01-01',color='red',ls='--');\n",
    "plt.title(\"Neuse River Near Goldsboro, NC\");\n",
    "plt.ylabel(\"Discharge (cfs)\");"
   ]
  },
  {
   "cell_type": "markdown",
   "metadata": {},
   "source": [
    "### Create a plot of all data, superimposed with the pre- and post-Falls Lake data views\n"
   ]
  },
  {
   "cell_type": "code",
   "execution_count": null,
   "metadata": {},
   "outputs": [],
   "source": [
    "#Create the canvas\n",
    "plt.figure(figsize=(20,6))\n",
    "\n",
    "#Add plot lines for the entire dataframe, then the two dataframe subsets\n",
    "plt.plot(df['MeanFlow_cfs'],color='grey',linewidth=0.1) \n",
    "plt.plot(dfPre['MeanFlow_cfs'],color='green',alpha=0.5,linewidth=0.5)\n",
    "plt.plot(dfPost['MeanFlow_cfs'],color='blue',alpha=0.5,linewidth=0.5)\n",
    "\n",
    "#Add the aesthetics\n",
    "plt.axvline(x='1979-12-31',color='red',ls='--')\n",
    "plt.title(\"Neuse River Near Goldsboro, NC\")\n",
    "plt.ylabel(\"Discharge (cfs)\");\n",
    "plt.annotate('Construction begins',\n",
    "             xy=('1980',16000),\n",
    "             xytext=('1955',18000),\n",
    "             arrowprops=dict(facecolor='red',shrink=0.05))\n",
    "\n",
    "#Show the plot\n",
    "plt.show;"
   ]
  },
  {
   "cell_type": "markdown",
   "metadata": {},
   "source": [
    "## Creating derived columns\n",
    "Here we: (1) derive new *year* and *month* columns from our datetime data; (2) compute a *water year* column; (2) compute mean flow in cubic meters per second (cms); and (3) replot."
   ]
  },
  {
   "cell_type": "markdown",
   "metadata": {},
   "source": [
    "### Deriving `year` and `month` columns from the `datetime` data\n",
    "We'll be working with data by year and month, so we need to add those as new columns to our dataframe. The year and month of each record is held in the `datetime` field, so we just need to extract those data into new columns. Pandas' `DatetimeIndex` function is designed to do just that:"
   ]
  },
  {
   "cell_type": "code",
   "execution_count": null,
   "metadata": {},
   "outputs": [],
   "source": [
    "#Extract years and months into a new columns in our dataframe\n",
    "df['year'] = pd.DatetimeIndex(df['datetime']).year\n",
    "df['month'] = pd.DatetimeIndex(df['datetime']).month\n",
    "#Have a look...\n",
    "df.head()"
   ]
  },
  {
   "cell_type": "markdown",
   "metadata": {},
   "source": [
    "### Adding a `water_year` column. \n",
    "Water year begins in October. Therefore it equals the calendar year for months prior to October, but for October, November, and December, it takes the value of the following year. \n",
    "\n",
    "There are two methods for computing water year. Both yield the exact same results but show different data techniques using Pandas. "
   ]
  },
  {
   "cell_type": "markdown",
   "metadata": {},
   "source": [
    "##### ♦ Method 1 for computing water year: computing values on filtered records\n",
    "In the first method, we add a new column `water_year` to our data frame, setting its default value to the value in the `year` column. Then we filter for records where the month is >= 10 and revise the value in `water_year` column to be `year + 1`."
   ]
  },
  {
   "cell_type": "code",
   "execution_count": null,
   "metadata": {},
   "outputs": [],
   "source": [
    "#Create a new column, setting all its values the same as the year column\n",
    "df['water_year'] = df['year']"
   ]
  },
  {
   "cell_type": "code",
   "execution_count": null,
   "metadata": {},
   "outputs": [],
   "source": [
    "#Create a mask of just records with months from Jan thru Sept (i.e. < 10)\n",
    "monthMask = df['month'] >= 10"
   ]
  },
  {
   "cell_type": "code",
   "execution_count": null,
   "metadata": {},
   "outputs": [],
   "source": [
    "#Apply this mask to create a view of just records from Jan thru Sept\n",
    "df.loc[monthMask, 'water_year'] = df['year'] + 1"
   ]
  },
  {
   "cell_type": "code",
   "execution_count": null,
   "metadata": {},
   "outputs": [],
   "source": [
    "#Have a look at a few random records\n",
    "df.sample(5)"
   ]
  },
  {
   "cell_type": "markdown",
   "metadata": {},
   "source": [
    "##### ♦ Method 2 for computing water year: using a `lambda` function\n",
    "In this approach, we loop through all records and apply a \"lambda\" function on each. In this lambda function, the value of \"x\" is taken from the `datetime` column and the output of the function is passed into the `water_year2` column."
   ]
  },
  {
   "cell_type": "code",
   "execution_count": null,
   "metadata": {},
   "outputs": [],
   "source": [
    "#Use a lambda function to assign values to water_year2 based on datetime values\n",
    "df['water_year2'] = df['datetime'].apply(lambda x: x.year if x.month < 10 else x.year + 1)"
   ]
  },
  {
   "cell_type": "code",
   "execution_count": null,
   "metadata": {},
   "outputs": [],
   "source": [
    "#Show the results; water_year and water_year2 are the same...\n",
    "df.sample(10)"
   ]
  },
  {
   "cell_type": "code",
   "execution_count": null,
   "metadata": {},
   "outputs": [],
   "source": [
    "#Drop the water_year2 column, now that the demonstration is over...\n",
    "df.drop(\"water_year2\",axis='columns',inplace=True)"
   ]
  },
  {
   "cell_type": "markdown",
   "metadata": {},
   "source": [
    "### Converting cubic feet/second to cubic *meter*/second"
   ]
  },
  {
   "cell_type": "code",
   "execution_count": null,
   "metadata": {},
   "outputs": [],
   "source": [
    "#Convert from cfs to cms (1 CFS = 0.028316847 CMS)\n",
    "df['MeanFlow_mps'] = df['MeanFlow_cfs'] * 0.028316847"
   ]
  },
  {
   "cell_type": "code",
   "execution_count": null,
   "metadata": {},
   "outputs": [],
   "source": [
    "#Replot (this time in a thinner, orange line)\n",
    "plt.figure(figsize=(20,6));\n",
    "plt.plot(df['datetime'],df['MeanFlow_mps'],linewidth=0.5,color='orange')\n",
    "plt.ylim((0,700))\n",
    "plt.show;"
   ]
  },
  {
   "cell_type": "markdown",
   "metadata": {},
   "source": [
    "### ♦ Exercise ♦ : \n",
    "Convert flow in cfs to flow in million gallons per day (MGD) and replot."
   ]
  },
  {
   "cell_type": "code",
   "execution_count": null,
   "metadata": {},
   "outputs": [],
   "source": [
    "#Convert from csf to mgd (1 CFS = 0.53817 MGD)"
   ]
  },
  {
   "cell_type": "code",
   "execution_count": null,
   "metadata": {},
   "outputs": [],
   "source": [
    "#Replot: see if you can make the line green"
   ]
  },
  {
   "cell_type": "markdown",
   "metadata": {},
   "source": [
    "## Summarize our data"
   ]
  },
  {
   "cell_type": "code",
   "execution_count": null,
   "metadata": {},
   "outputs": [],
   "source": [
    "#Get a count of all records from the dataframe's shape (rows, columns)\n",
    "df.shape"
   ]
  },
  {
   "cell_type": "code",
   "execution_count": null,
   "metadata": {},
   "outputs": [],
   "source": [
    "#Or just show the rows, i.e., the first item in the shape result\n",
    "df.shape[0]"
   ]
  },
  {
   "cell_type": "code",
   "execution_count": null,
   "metadata": {},
   "outputs": [],
   "source": [
    "#We can also use the Python `len` command to show the \"lenght\" of the dataframe\n",
    "len(df)"
   ]
  },
  {
   "cell_type": "markdown",
   "metadata": {},
   "source": [
    "### Summarizing/grouping records by Confidence code\n",
    "Here, we group the data by the unique values in a column, namely the `Confidence` column. First, we'll just examine the number of unique values and what those values are. "
   ]
  },
  {
   "cell_type": "code",
   "execution_count": null,
   "metadata": {},
   "outputs": [],
   "source": [
    "#Use nunique on the column to list the number of unique values\n",
    "print(df['Confidence'].nunique())"
   ]
  },
  {
   "cell_type": "code",
   "execution_count": null,
   "metadata": {},
   "outputs": [],
   "source": [
    "#Use unique to show what the 4 unique values are\n",
    "print(df['Confidence'].unique())"
   ]
  },
  {
   "cell_type": "markdown",
   "metadata": {},
   "source": [
    "Now, we'll **group** the records by confidence codes"
   ]
  },
  {
   "cell_type": "code",
   "execution_count": null,
   "metadata": {},
   "outputs": [],
   "source": [
    "#Create the Pandas GroupBy object\n",
    "grpConfidence = df.groupby(['Confidence'])"
   ]
  },
  {
   "cell_type": "code",
   "execution_count": null,
   "metadata": {},
   "outputs": [],
   "source": [
    "#We can now list the counts of records by confidence code\n",
    "grpConfidence.count()"
   ]
  },
  {
   "cell_type": "code",
   "execution_count": null,
   "metadata": {},
   "outputs": [],
   "source": [
    "#Or we can just show the count by a single column\n",
    "grpConfidence['MeanFlow_cfs'].count()"
   ]
  },
  {
   "cell_type": "markdown",
   "metadata": {},
   "source": [
    "### Plot counts by confidence code\n",
    "See: https://pandas.pydata.org/pandas-docs/stable/visualization.html"
   ]
  },
  {
   "cell_type": "code",
   "execution_count": null,
   "metadata": {},
   "outputs": [],
   "source": [
    "#Compute counts and plot them as a bar chart\n",
    "count_by_Confidence = grpConfidence['MeanFlow_cfs'].count()\n",
    "count_by_Confidence.plot(kind='pie');"
   ]
  },
  {
   "cell_type": "markdown",
   "metadata": {},
   "source": [
    "### Generating summary statistics with `Describe`"
   ]
  },
  {
   "cell_type": "code",
   "execution_count": null,
   "metadata": {},
   "outputs": [],
   "source": [
    "#Summarize the MeanFlow_cfs data, using default outputs\n",
    "df['MeanFlow_cfs'].describe()"
   ]
  },
  {
   "cell_type": "code",
   "execution_count": null,
   "metadata": {},
   "outputs": [],
   "source": [
    "#Summarize, using our own percentiles\n",
    "sumAll = df['MeanFlow_cfs'].describe(percentiles=[0.1,0.25,0.75,0.9])\n",
    "sumAll"
   ]
  },
  {
   "cell_type": "code",
   "execution_count": null,
   "metadata": {},
   "outputs": [],
   "source": [
    "#Describe records before 1980 and after 1984 (using index slicing, as above)\n",
    "sumPre = dfPre['MeanFlow_cfs'].describe(percentiles=[0.1,0.25,0.75,0.9])\n",
    "sumPost = dfPost['MeanFlow_cfs'].describe(percentiles=[0.1,0.25,0.75,0.9])"
   ]
  },
  {
   "cell_type": "code",
   "execution_count": null,
   "metadata": {},
   "outputs": [],
   "source": [
    "#Concatenate (or join) the pre and post summary objects\n",
    "dfSummary = pd.concat([sumAll,sumPre,sumPost],axis=1)\n",
    "dfSummary.columns = (\"all\",\"before\",\"after\")"
   ]
  },
  {
   "cell_type": "code",
   "execution_count": null,
   "metadata": {},
   "outputs": [],
   "source": [
    "#Plot bar charts of the three summary tables\n",
    "dfSummary[4:9].plot(kind='bar',\n",
    "                    figsize=(20,6),\n",
    "                    title=\"Data Summaries: Quantiles\");"
   ]
  },
  {
   "cell_type": "markdown",
   "metadata": {},
   "source": [
    "## Monthly plots\n",
    "To produce monthly plots, we need to group our data by month, then plot. Grouping by month requires us to extract the month from the datetime column. "
   ]
  },
  {
   "cell_type": "code",
   "execution_count": null,
   "metadata": {},
   "outputs": [],
   "source": [
    "#Extract the month from the datetime column\n",
    "df['Mo'] = df['datetime'].map(lambda x: x.month)\n",
    "df.head()"
   ]
  },
  {
   "cell_type": "code",
   "execution_count": null,
   "metadata": {},
   "outputs": [],
   "source": [
    "byMonth = df.groupby('Mo')"
   ]
  },
  {
   "cell_type": "code",
   "execution_count": null,
   "metadata": {},
   "outputs": [],
   "source": [
    "monthlyDF = byMonth['MeanFlow_cfs'].mean()"
   ]
  },
  {
   "cell_type": "code",
   "execution_count": null,
   "metadata": {},
   "outputs": [],
   "source": [
    "monthlyDF"
   ]
  },
  {
   "cell_type": "code",
   "execution_count": null,
   "metadata": {},
   "outputs": [],
   "source": [
    "monthlyDF.plot(figsize=(20,6),legend=True);"
   ]
  },
  {
   "cell_type": "markdown",
   "metadata": {},
   "source": [
    "## ♦Exercise♦: Annual plots\n",
    "* Add a year column to your dataframe\n",
    "* Group by year\n",
    "* Compute the total (sum) annual discharge\n",
    "* Create a plot"
   ]
  },
  {
   "cell_type": "code",
   "execution_count": null,
   "metadata": {},
   "outputs": [],
   "source": [
    "#Add a year column\n"
   ]
  },
  {
   "cell_type": "code",
   "execution_count": null,
   "metadata": {},
   "outputs": [],
   "source": [
    "#Group by year\n"
   ]
  },
  {
   "cell_type": "code",
   "execution_count": null,
   "metadata": {},
   "outputs": [],
   "source": [
    "#Compute total annual discharge\n"
   ]
  },
  {
   "cell_type": "code",
   "execution_count": null,
   "metadata": {},
   "outputs": [],
   "source": [
    "#Plot\n"
   ]
  }
 ],
 "metadata": {
  "kernelspec": {
   "display_name": "Python 3",
   "language": "python",
   "name": "python3"
  },
  "language_info": {
   "codemirror_mode": {
    "name": "ipython",
    "version": 3
   },
   "file_extension": ".py",
   "mimetype": "text/x-python",
   "name": "python",
   "nbconvert_exporter": "python",
   "pygments_lexer": "ipython3",
   "version": "3.5.4"
  }
 },
 "nbformat": 4,
 "nbformat_minor": 2
}
